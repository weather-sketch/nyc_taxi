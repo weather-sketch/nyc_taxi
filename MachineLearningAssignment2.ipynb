{
 "cells": [
  {
   "cell_type": "markdown",
   "id": "8a2f6f6b-0023-4b0b-9a7d-3b01cb527273",
   "metadata": {},
   "source": [
    "# Machine Learning Assignment 2: An Investigation Into New York City Taxi Trip Dataset"
   ]
  },
  {
   "cell_type": "markdown",
   "id": "8911486b-6e80-4da8-938e-7178a85ccde2",
   "metadata": {},
   "source": [
    "Wenqu Tang\n",
    "MSc in Virtual Reality"
   ]
  },
  {
   "cell_type": "markdown",
   "id": "dad4f7d1-037a-4540-9790-4bc4246e0357",
   "metadata": {},
   "source": [
    "New York City Yellow Taxi Trip Records(January, 2024)\n",
    "Dataset link: https://www.nyc.gov/site/tlc/about/tlc-trip-record-data.page"
   ]
  },
  {
   "cell_type": "markdown",
   "id": "eb95a0f1-21ec-4d1d-a3fa-37fe715ea51d",
   "metadata": {},
   "source": [
    "# Load the Data"
   ]
  },
  {
   "cell_type": "code",
   "execution_count": 342,
   "id": "05d5a6ef-23d3-4258-925a-54ab3551db28",
   "metadata": {},
   "outputs": [],
   "source": [
    "import pandas as pd\n",
    "import numpy as np\n",
    "import matplotlib.pyplot as plt\n",
    "import geopandas as gpd\n",
    "from shapely.geometry import Polygon, Point, MultiPolygon\n",
    "from sklearn.model_selection import train_test_split\n",
    "import time\n",
    "import datetime\n",
    "import seaborn as sns\n",
    "from sklearn.linear_model import LinearRegression\n",
    "from sklearn.neighbors import KNeighborsRegressor\n",
    "from sklearn.ensemble import RandomForestRegressor\n",
    "from sklearn.linear_model import LinearRegression\n",
    "from sklearn.metrics import mean_absolute_error, mean_squared_error, r2_score, make_scorer\n",
    "from sklearn.model_selection import train_test_split\n",
    "from sklearn.model_selection import cross_val_score\n",
    "import xgboost as xgb\n",
    "import tensorflow as tf\n",
    "from tensorflow.keras import models, layers, regularizers\n",
    "from tensorflow.keras.optimizers import Adam\n",
    "from sklearn.model_selection import GridSearchCV\n",
    "from sklearn.model_selection import RandomizedSearchCV"
   ]
  },
  {
   "cell_type": "code",
   "execution_count": 144,
   "id": "f215e5fc-aeb0-400a-8718-8f7176eaa0c4",
   "metadata": {},
   "outputs": [],
   "source": [
    "# Load the data\n",
    "\n",
    "\n",
    "raw_df = pd.read_parquet('E:/Goldsmiths/machinelearning/yellow_tripdata_2024-01.parquet', engine='pyarrow')"
   ]
  },
  {
   "cell_type": "code",
   "execution_count": 4,
   "id": "0ca38055-07d9-45e5-b14b-c3636b537e11",
   "metadata": {},
   "outputs": [
    {
     "data": {
      "text/html": [
       "<div>\n",
       "<style scoped>\n",
       "    .dataframe tbody tr th:only-of-type {\n",
       "        vertical-align: middle;\n",
       "    }\n",
       "\n",
       "    .dataframe tbody tr th {\n",
       "        vertical-align: top;\n",
       "    }\n",
       "\n",
       "    .dataframe thead th {\n",
       "        text-align: right;\n",
       "    }\n",
       "</style>\n",
       "<table border=\"1\" class=\"dataframe\">\n",
       "  <thead>\n",
       "    <tr style=\"text-align: right;\">\n",
       "      <th></th>\n",
       "      <th>VendorID</th>\n",
       "      <th>tpep_pickup_datetime</th>\n",
       "      <th>tpep_dropoff_datetime</th>\n",
       "      <th>passenger_count</th>\n",
       "      <th>trip_distance</th>\n",
       "      <th>RatecodeID</th>\n",
       "      <th>store_and_fwd_flag</th>\n",
       "      <th>PULocationID</th>\n",
       "      <th>DOLocationID</th>\n",
       "      <th>payment_type</th>\n",
       "      <th>fare_amount</th>\n",
       "      <th>extra</th>\n",
       "      <th>mta_tax</th>\n",
       "      <th>tip_amount</th>\n",
       "      <th>tolls_amount</th>\n",
       "      <th>improvement_surcharge</th>\n",
       "      <th>total_amount</th>\n",
       "      <th>congestion_surcharge</th>\n",
       "      <th>Airport_fee</th>\n",
       "    </tr>\n",
       "  </thead>\n",
       "  <tbody>\n",
       "    <tr>\n",
       "      <th>0</th>\n",
       "      <td>2</td>\n",
       "      <td>2024-01-01 00:57:55</td>\n",
       "      <td>2024-01-01 01:17:43</td>\n",
       "      <td>1.0</td>\n",
       "      <td>1.72</td>\n",
       "      <td>1.0</td>\n",
       "      <td>N</td>\n",
       "      <td>186</td>\n",
       "      <td>79</td>\n",
       "      <td>2</td>\n",
       "      <td>17.7</td>\n",
       "      <td>1.0</td>\n",
       "      <td>0.5</td>\n",
       "      <td>0.00</td>\n",
       "      <td>0.0</td>\n",
       "      <td>1.0</td>\n",
       "      <td>22.70</td>\n",
       "      <td>2.5</td>\n",
       "      <td>0.0</td>\n",
       "    </tr>\n",
       "    <tr>\n",
       "      <th>1</th>\n",
       "      <td>1</td>\n",
       "      <td>2024-01-01 00:03:00</td>\n",
       "      <td>2024-01-01 00:09:36</td>\n",
       "      <td>1.0</td>\n",
       "      <td>1.80</td>\n",
       "      <td>1.0</td>\n",
       "      <td>N</td>\n",
       "      <td>140</td>\n",
       "      <td>236</td>\n",
       "      <td>1</td>\n",
       "      <td>10.0</td>\n",
       "      <td>3.5</td>\n",
       "      <td>0.5</td>\n",
       "      <td>3.75</td>\n",
       "      <td>0.0</td>\n",
       "      <td>1.0</td>\n",
       "      <td>18.75</td>\n",
       "      <td>2.5</td>\n",
       "      <td>0.0</td>\n",
       "    </tr>\n",
       "    <tr>\n",
       "      <th>2</th>\n",
       "      <td>1</td>\n",
       "      <td>2024-01-01 00:17:06</td>\n",
       "      <td>2024-01-01 00:35:01</td>\n",
       "      <td>1.0</td>\n",
       "      <td>4.70</td>\n",
       "      <td>1.0</td>\n",
       "      <td>N</td>\n",
       "      <td>236</td>\n",
       "      <td>79</td>\n",
       "      <td>1</td>\n",
       "      <td>23.3</td>\n",
       "      <td>3.5</td>\n",
       "      <td>0.5</td>\n",
       "      <td>3.00</td>\n",
       "      <td>0.0</td>\n",
       "      <td>1.0</td>\n",
       "      <td>31.30</td>\n",
       "      <td>2.5</td>\n",
       "      <td>0.0</td>\n",
       "    </tr>\n",
       "    <tr>\n",
       "      <th>3</th>\n",
       "      <td>1</td>\n",
       "      <td>2024-01-01 00:36:38</td>\n",
       "      <td>2024-01-01 00:44:56</td>\n",
       "      <td>1.0</td>\n",
       "      <td>1.40</td>\n",
       "      <td>1.0</td>\n",
       "      <td>N</td>\n",
       "      <td>79</td>\n",
       "      <td>211</td>\n",
       "      <td>1</td>\n",
       "      <td>10.0</td>\n",
       "      <td>3.5</td>\n",
       "      <td>0.5</td>\n",
       "      <td>2.00</td>\n",
       "      <td>0.0</td>\n",
       "      <td>1.0</td>\n",
       "      <td>17.00</td>\n",
       "      <td>2.5</td>\n",
       "      <td>0.0</td>\n",
       "    </tr>\n",
       "    <tr>\n",
       "      <th>4</th>\n",
       "      <td>1</td>\n",
       "      <td>2024-01-01 00:46:51</td>\n",
       "      <td>2024-01-01 00:52:57</td>\n",
       "      <td>1.0</td>\n",
       "      <td>0.80</td>\n",
       "      <td>1.0</td>\n",
       "      <td>N</td>\n",
       "      <td>211</td>\n",
       "      <td>148</td>\n",
       "      <td>1</td>\n",
       "      <td>7.9</td>\n",
       "      <td>3.5</td>\n",
       "      <td>0.5</td>\n",
       "      <td>3.20</td>\n",
       "      <td>0.0</td>\n",
       "      <td>1.0</td>\n",
       "      <td>16.10</td>\n",
       "      <td>2.5</td>\n",
       "      <td>0.0</td>\n",
       "    </tr>\n",
       "  </tbody>\n",
       "</table>\n",
       "</div>"
      ],
      "text/plain": [
       "   VendorID tpep_pickup_datetime tpep_dropoff_datetime  passenger_count  \\\n",
       "0         2  2024-01-01 00:57:55   2024-01-01 01:17:43              1.0   \n",
       "1         1  2024-01-01 00:03:00   2024-01-01 00:09:36              1.0   \n",
       "2         1  2024-01-01 00:17:06   2024-01-01 00:35:01              1.0   \n",
       "3         1  2024-01-01 00:36:38   2024-01-01 00:44:56              1.0   \n",
       "4         1  2024-01-01 00:46:51   2024-01-01 00:52:57              1.0   \n",
       "\n",
       "   trip_distance  RatecodeID store_and_fwd_flag  PULocationID  DOLocationID  \\\n",
       "0           1.72         1.0                  N           186            79   \n",
       "1           1.80         1.0                  N           140           236   \n",
       "2           4.70         1.0                  N           236            79   \n",
       "3           1.40         1.0                  N            79           211   \n",
       "4           0.80         1.0                  N           211           148   \n",
       "\n",
       "   payment_type  fare_amount  extra  mta_tax  tip_amount  tolls_amount  \\\n",
       "0             2         17.7    1.0      0.5        0.00           0.0   \n",
       "1             1         10.0    3.5      0.5        3.75           0.0   \n",
       "2             1         23.3    3.5      0.5        3.00           0.0   \n",
       "3             1         10.0    3.5      0.5        2.00           0.0   \n",
       "4             1          7.9    3.5      0.5        3.20           0.0   \n",
       "\n",
       "   improvement_surcharge  total_amount  congestion_surcharge  Airport_fee  \n",
       "0                    1.0         22.70                   2.5          0.0  \n",
       "1                    1.0         18.75                   2.5          0.0  \n",
       "2                    1.0         31.30                   2.5          0.0  \n",
       "3                    1.0         17.00                   2.5          0.0  \n",
       "4                    1.0         16.10                   2.5          0.0  "
      ]
     },
     "execution_count": 4,
     "metadata": {},
     "output_type": "execute_result"
    }
   ],
   "source": [
    "raw_df.head()"
   ]
  },
  {
   "cell_type": "code",
   "execution_count": 5,
   "id": "a6103c9b-1b90-41bc-b090-640ff532d04b",
   "metadata": {},
   "outputs": [
    {
     "data": {
      "text/html": [
       "<div>\n",
       "<style scoped>\n",
       "    .dataframe tbody tr th:only-of-type {\n",
       "        vertical-align: middle;\n",
       "    }\n",
       "\n",
       "    .dataframe tbody tr th {\n",
       "        vertical-align: top;\n",
       "    }\n",
       "\n",
       "    .dataframe thead th {\n",
       "        text-align: right;\n",
       "    }\n",
       "</style>\n",
       "<table border=\"1\" class=\"dataframe\">\n",
       "  <thead>\n",
       "    <tr style=\"text-align: right;\">\n",
       "      <th></th>\n",
       "      <th>VendorID</th>\n",
       "      <th>tpep_pickup_datetime</th>\n",
       "      <th>tpep_dropoff_datetime</th>\n",
       "      <th>passenger_count</th>\n",
       "      <th>trip_distance</th>\n",
       "      <th>RatecodeID</th>\n",
       "      <th>PULocationID</th>\n",
       "      <th>DOLocationID</th>\n",
       "      <th>payment_type</th>\n",
       "      <th>fare_amount</th>\n",
       "      <th>extra</th>\n",
       "      <th>mta_tax</th>\n",
       "      <th>tip_amount</th>\n",
       "      <th>tolls_amount</th>\n",
       "      <th>improvement_surcharge</th>\n",
       "      <th>total_amount</th>\n",
       "      <th>congestion_surcharge</th>\n",
       "      <th>Airport_fee</th>\n",
       "    </tr>\n",
       "  </thead>\n",
       "  <tbody>\n",
       "    <tr>\n",
       "      <th>count</th>\n",
       "      <td>2.964624e+06</td>\n",
       "      <td>2964624</td>\n",
       "      <td>2964624</td>\n",
       "      <td>2.824462e+06</td>\n",
       "      <td>2.964624e+06</td>\n",
       "      <td>2.824462e+06</td>\n",
       "      <td>2.964624e+06</td>\n",
       "      <td>2.964624e+06</td>\n",
       "      <td>2.964624e+06</td>\n",
       "      <td>2.964624e+06</td>\n",
       "      <td>2.964624e+06</td>\n",
       "      <td>2.964624e+06</td>\n",
       "      <td>2.964624e+06</td>\n",
       "      <td>2.964624e+06</td>\n",
       "      <td>2.964624e+06</td>\n",
       "      <td>2.964624e+06</td>\n",
       "      <td>2.824462e+06</td>\n",
       "      <td>2.824462e+06</td>\n",
       "    </tr>\n",
       "    <tr>\n",
       "      <th>mean</th>\n",
       "      <td>1.754204e+00</td>\n",
       "      <td>2024-01-17 00:46:36.431092</td>\n",
       "      <td>2024-01-17 01:02:13.208130</td>\n",
       "      <td>1.339281e+00</td>\n",
       "      <td>3.652169e+00</td>\n",
       "      <td>2.069359e+00</td>\n",
       "      <td>1.660179e+02</td>\n",
       "      <td>1.651167e+02</td>\n",
       "      <td>1.161271e+00</td>\n",
       "      <td>1.817506e+01</td>\n",
       "      <td>1.451598e+00</td>\n",
       "      <td>4.833823e-01</td>\n",
       "      <td>3.335870e+00</td>\n",
       "      <td>5.270212e-01</td>\n",
       "      <td>9.756319e-01</td>\n",
       "      <td>2.680150e+01</td>\n",
       "      <td>2.256122e+00</td>\n",
       "      <td>1.411611e-01</td>\n",
       "    </tr>\n",
       "    <tr>\n",
       "      <th>min</th>\n",
       "      <td>1.000000e+00</td>\n",
       "      <td>2002-12-31 22:59:39</td>\n",
       "      <td>2002-12-31 23:05:41</td>\n",
       "      <td>0.000000e+00</td>\n",
       "      <td>0.000000e+00</td>\n",
       "      <td>1.000000e+00</td>\n",
       "      <td>1.000000e+00</td>\n",
       "      <td>1.000000e+00</td>\n",
       "      <td>0.000000e+00</td>\n",
       "      <td>-8.990000e+02</td>\n",
       "      <td>-7.500000e+00</td>\n",
       "      <td>-5.000000e-01</td>\n",
       "      <td>-8.000000e+01</td>\n",
       "      <td>-8.000000e+01</td>\n",
       "      <td>-1.000000e+00</td>\n",
       "      <td>-9.000000e+02</td>\n",
       "      <td>-2.500000e+00</td>\n",
       "      <td>-1.750000e+00</td>\n",
       "    </tr>\n",
       "    <tr>\n",
       "      <th>25%</th>\n",
       "      <td>2.000000e+00</td>\n",
       "      <td>2024-01-09 15:59:19.750000</td>\n",
       "      <td>2024-01-09 16:16:23</td>\n",
       "      <td>1.000000e+00</td>\n",
       "      <td>1.000000e+00</td>\n",
       "      <td>1.000000e+00</td>\n",
       "      <td>1.320000e+02</td>\n",
       "      <td>1.140000e+02</td>\n",
       "      <td>1.000000e+00</td>\n",
       "      <td>8.600000e+00</td>\n",
       "      <td>0.000000e+00</td>\n",
       "      <td>5.000000e-01</td>\n",
       "      <td>1.000000e+00</td>\n",
       "      <td>0.000000e+00</td>\n",
       "      <td>1.000000e+00</td>\n",
       "      <td>1.538000e+01</td>\n",
       "      <td>2.500000e+00</td>\n",
       "      <td>0.000000e+00</td>\n",
       "    </tr>\n",
       "    <tr>\n",
       "      <th>50%</th>\n",
       "      <td>2.000000e+00</td>\n",
       "      <td>2024-01-17 10:45:37.500000</td>\n",
       "      <td>2024-01-17 11:03:51.500000</td>\n",
       "      <td>1.000000e+00</td>\n",
       "      <td>1.680000e+00</td>\n",
       "      <td>1.000000e+00</td>\n",
       "      <td>1.620000e+02</td>\n",
       "      <td>1.620000e+02</td>\n",
       "      <td>1.000000e+00</td>\n",
       "      <td>1.280000e+01</td>\n",
       "      <td>1.000000e+00</td>\n",
       "      <td>5.000000e-01</td>\n",
       "      <td>2.700000e+00</td>\n",
       "      <td>0.000000e+00</td>\n",
       "      <td>1.000000e+00</td>\n",
       "      <td>2.010000e+01</td>\n",
       "      <td>2.500000e+00</td>\n",
       "      <td>0.000000e+00</td>\n",
       "    </tr>\n",
       "    <tr>\n",
       "      <th>75%</th>\n",
       "      <td>2.000000e+00</td>\n",
       "      <td>2024-01-24 18:23:52.250000</td>\n",
       "      <td>2024-01-24 18:40:29</td>\n",
       "      <td>1.000000e+00</td>\n",
       "      <td>3.110000e+00</td>\n",
       "      <td>1.000000e+00</td>\n",
       "      <td>2.340000e+02</td>\n",
       "      <td>2.340000e+02</td>\n",
       "      <td>1.000000e+00</td>\n",
       "      <td>2.050000e+01</td>\n",
       "      <td>2.500000e+00</td>\n",
       "      <td>5.000000e-01</td>\n",
       "      <td>4.120000e+00</td>\n",
       "      <td>0.000000e+00</td>\n",
       "      <td>1.000000e+00</td>\n",
       "      <td>2.856000e+01</td>\n",
       "      <td>2.500000e+00</td>\n",
       "      <td>0.000000e+00</td>\n",
       "    </tr>\n",
       "    <tr>\n",
       "      <th>max</th>\n",
       "      <td>6.000000e+00</td>\n",
       "      <td>2024-02-01 00:01:15</td>\n",
       "      <td>2024-02-02 13:56:52</td>\n",
       "      <td>9.000000e+00</td>\n",
       "      <td>3.127223e+05</td>\n",
       "      <td>9.900000e+01</td>\n",
       "      <td>2.650000e+02</td>\n",
       "      <td>2.650000e+02</td>\n",
       "      <td>4.000000e+00</td>\n",
       "      <td>5.000000e+03</td>\n",
       "      <td>1.425000e+01</td>\n",
       "      <td>4.000000e+00</td>\n",
       "      <td>4.280000e+02</td>\n",
       "      <td>1.159200e+02</td>\n",
       "      <td>1.000000e+00</td>\n",
       "      <td>5.000000e+03</td>\n",
       "      <td>2.500000e+00</td>\n",
       "      <td>1.750000e+00</td>\n",
       "    </tr>\n",
       "    <tr>\n",
       "      <th>std</th>\n",
       "      <td>4.325902e-01</td>\n",
       "      <td>NaN</td>\n",
       "      <td>NaN</td>\n",
       "      <td>8.502817e-01</td>\n",
       "      <td>2.254626e+02</td>\n",
       "      <td>9.823219e+00</td>\n",
       "      <td>6.362391e+01</td>\n",
       "      <td>6.931535e+01</td>\n",
       "      <td>5.808686e-01</td>\n",
       "      <td>1.894955e+01</td>\n",
       "      <td>1.804102e+00</td>\n",
       "      <td>1.177600e-01</td>\n",
       "      <td>3.896551e+00</td>\n",
       "      <td>2.128310e+00</td>\n",
       "      <td>2.183645e-01</td>\n",
       "      <td>2.338558e+01</td>\n",
       "      <td>8.232747e-01</td>\n",
       "      <td>4.876239e-01</td>\n",
       "    </tr>\n",
       "  </tbody>\n",
       "</table>\n",
       "</div>"
      ],
      "text/plain": [
       "           VendorID        tpep_pickup_datetime       tpep_dropoff_datetime  \\\n",
       "count  2.964624e+06                     2964624                     2964624   \n",
       "mean   1.754204e+00  2024-01-17 00:46:36.431092  2024-01-17 01:02:13.208130   \n",
       "min    1.000000e+00         2002-12-31 22:59:39         2002-12-31 23:05:41   \n",
       "25%    2.000000e+00  2024-01-09 15:59:19.750000         2024-01-09 16:16:23   \n",
       "50%    2.000000e+00  2024-01-17 10:45:37.500000  2024-01-17 11:03:51.500000   \n",
       "75%    2.000000e+00  2024-01-24 18:23:52.250000         2024-01-24 18:40:29   \n",
       "max    6.000000e+00         2024-02-01 00:01:15         2024-02-02 13:56:52   \n",
       "std    4.325902e-01                         NaN                         NaN   \n",
       "\n",
       "       passenger_count  trip_distance    RatecodeID  PULocationID  \\\n",
       "count     2.824462e+06   2.964624e+06  2.824462e+06  2.964624e+06   \n",
       "mean      1.339281e+00   3.652169e+00  2.069359e+00  1.660179e+02   \n",
       "min       0.000000e+00   0.000000e+00  1.000000e+00  1.000000e+00   \n",
       "25%       1.000000e+00   1.000000e+00  1.000000e+00  1.320000e+02   \n",
       "50%       1.000000e+00   1.680000e+00  1.000000e+00  1.620000e+02   \n",
       "75%       1.000000e+00   3.110000e+00  1.000000e+00  2.340000e+02   \n",
       "max       9.000000e+00   3.127223e+05  9.900000e+01  2.650000e+02   \n",
       "std       8.502817e-01   2.254626e+02  9.823219e+00  6.362391e+01   \n",
       "\n",
       "       DOLocationID  payment_type   fare_amount         extra       mta_tax  \\\n",
       "count  2.964624e+06  2.964624e+06  2.964624e+06  2.964624e+06  2.964624e+06   \n",
       "mean   1.651167e+02  1.161271e+00  1.817506e+01  1.451598e+00  4.833823e-01   \n",
       "min    1.000000e+00  0.000000e+00 -8.990000e+02 -7.500000e+00 -5.000000e-01   \n",
       "25%    1.140000e+02  1.000000e+00  8.600000e+00  0.000000e+00  5.000000e-01   \n",
       "50%    1.620000e+02  1.000000e+00  1.280000e+01  1.000000e+00  5.000000e-01   \n",
       "75%    2.340000e+02  1.000000e+00  2.050000e+01  2.500000e+00  5.000000e-01   \n",
       "max    2.650000e+02  4.000000e+00  5.000000e+03  1.425000e+01  4.000000e+00   \n",
       "std    6.931535e+01  5.808686e-01  1.894955e+01  1.804102e+00  1.177600e-01   \n",
       "\n",
       "         tip_amount  tolls_amount  improvement_surcharge  total_amount  \\\n",
       "count  2.964624e+06  2.964624e+06           2.964624e+06  2.964624e+06   \n",
       "mean   3.335870e+00  5.270212e-01           9.756319e-01  2.680150e+01   \n",
       "min   -8.000000e+01 -8.000000e+01          -1.000000e+00 -9.000000e+02   \n",
       "25%    1.000000e+00  0.000000e+00           1.000000e+00  1.538000e+01   \n",
       "50%    2.700000e+00  0.000000e+00           1.000000e+00  2.010000e+01   \n",
       "75%    4.120000e+00  0.000000e+00           1.000000e+00  2.856000e+01   \n",
       "max    4.280000e+02  1.159200e+02           1.000000e+00  5.000000e+03   \n",
       "std    3.896551e+00  2.128310e+00           2.183645e-01  2.338558e+01   \n",
       "\n",
       "       congestion_surcharge   Airport_fee  \n",
       "count          2.824462e+06  2.824462e+06  \n",
       "mean           2.256122e+00  1.411611e-01  \n",
       "min           -2.500000e+00 -1.750000e+00  \n",
       "25%            2.500000e+00  0.000000e+00  \n",
       "50%            2.500000e+00  0.000000e+00  \n",
       "75%            2.500000e+00  0.000000e+00  \n",
       "max            2.500000e+00  1.750000e+00  \n",
       "std            8.232747e-01  4.876239e-01  "
      ]
     },
     "execution_count": 5,
     "metadata": {},
     "output_type": "execute_result"
    }
   ],
   "source": [
    "raw_df.describe()"
   ]
  },
  {
   "cell_type": "code",
   "execution_count": 20,
   "id": "833fb35d-6eac-41e4-8734-cc8849f96c53",
   "metadata": {},
   "outputs": [
    {
     "name": "stdout",
     "output_type": "stream",
     "text": [
      "<class 'pandas.core.frame.DataFrame'>\n",
      "RangeIndex: 2964624 entries, 0 to 2964623\n",
      "Data columns (total 19 columns):\n",
      " #   Column                 Dtype         \n",
      "---  ------                 -----         \n",
      " 0   VendorID               int32         \n",
      " 1   tpep_pickup_datetime   datetime64[us]\n",
      " 2   tpep_dropoff_datetime  datetime64[us]\n",
      " 3   passenger_count        float64       \n",
      " 4   trip_distance          float64       \n",
      " 5   RatecodeID             float64       \n",
      " 6   store_and_fwd_flag     object        \n",
      " 7   PULocationID           int32         \n",
      " 8   DOLocationID           int32         \n",
      " 9   payment_type           int64         \n",
      " 10  fare_amount            float64       \n",
      " 11  extra                  float64       \n",
      " 12  mta_tax                float64       \n",
      " 13  tip_amount             float64       \n",
      " 14  tolls_amount           float64       \n",
      " 15  improvement_surcharge  float64       \n",
      " 16  total_amount           float64       \n",
      " 17  congestion_surcharge   float64       \n",
      " 18  Airport_fee            float64       \n",
      "dtypes: datetime64[us](2), float64(12), int32(3), int64(1), object(1)\n",
      "memory usage: 395.8+ MB\n"
     ]
    }
   ],
   "source": [
    "raw_df.info()"
   ]
  },
  {
   "cell_type": "code",
   "execution_count": 219,
   "id": "34ff804c-e4d0-44dc-9d2a-17df3ca78b30",
   "metadata": {},
   "outputs": [],
   "source": [
    "# Systematically sample the data to make a smaller dataset\n",
    "interval = 100\n",
    "indices = np.arange(0, len(raw_df), interval)\n",
    "df = raw_df.iloc[indices]"
   ]
  },
  {
   "cell_type": "code",
   "execution_count": 157,
   "id": "94f8eb58-5026-43a6-bed2-9a414ce6ce0e",
   "metadata": {},
   "outputs": [
    {
     "name": "stdout",
     "output_type": "stream",
     "text": [
      "<class 'pandas.core.frame.DataFrame'>\n",
      "Index: 29647 entries, 0 to 2964600\n",
      "Data columns (total 19 columns):\n",
      " #   Column                 Non-Null Count  Dtype         \n",
      "---  ------                 --------------  -----         \n",
      " 0   VendorID               29647 non-null  int32         \n",
      " 1   tpep_pickup_datetime   29647 non-null  datetime64[us]\n",
      " 2   tpep_dropoff_datetime  29647 non-null  datetime64[us]\n",
      " 3   passenger_count        28245 non-null  float64       \n",
      " 4   trip_distance          29647 non-null  float64       \n",
      " 5   RatecodeID             28245 non-null  float64       \n",
      " 6   store_and_fwd_flag     28245 non-null  object        \n",
      " 7   PULocationID           29647 non-null  int32         \n",
      " 8   DOLocationID           29647 non-null  int32         \n",
      " 9   payment_type           29647 non-null  int64         \n",
      " 10  fare_amount            29647 non-null  float64       \n",
      " 11  extra                  29647 non-null  float64       \n",
      " 12  mta_tax                29647 non-null  float64       \n",
      " 13  tip_amount             29647 non-null  float64       \n",
      " 14  tolls_amount           29647 non-null  float64       \n",
      " 15  improvement_surcharge  29647 non-null  float64       \n",
      " 16  total_amount           29647 non-null  float64       \n",
      " 17  congestion_surcharge   28245 non-null  float64       \n",
      " 18  Airport_fee            28245 non-null  float64       \n",
      "dtypes: datetime64[us](2), float64(12), int32(3), int64(1), object(1)\n",
      "memory usage: 4.2+ MB\n"
     ]
    }
   ],
   "source": [
    "df.info()"
   ]
  },
  {
   "cell_type": "code",
   "execution_count": 240,
   "id": "db53463c-8c24-4630-aa3e-be034e297f2b",
   "metadata": {},
   "outputs": [
    {
     "data": {
      "image/png": "[encoded data removed]",
      "text/plain": [
       "<Figure size 2000x1500 with 20 Axes>"
      ]
     },
     "metadata": {},
     "output_type": "display_data"
    }
   ],
   "source": [
    "df.hist(bins=50, figsize=(20,15))\n",
    "plt.show()"
   ]
  },
  {
   "cell_type": "markdown",
   "id": "1739914c-05f1-4ea1-85b4-7e9d063f7e45",
   "metadata": {},
   "source": [
    "# Data Cleanning"
   ]
  },
  {
   "cell_type": "code",
   "execution_count": 20,
   "id": "d201033b-403d-4983-8a8b-662c19c20013",
   "metadata": {},
   "outputs": [
    {
     "name": "stdout",
     "output_type": "stream",
     "text": [
      "0\n"
     ]
    }
   ],
   "source": [
    "print(df.duplicated().sum())"
   ]
  },
  {
   "cell_type": "code",
   "execution_count": 34,
   "id": "b70c392b-7f2b-420d-b2ab-c207acf97397",
   "metadata": {},
   "outputs": [
    {
     "name": "stdout",
     "output_type": "stream",
     "text": [
      "VendorID                    0\n",
      "tpep_pickup_datetime        0\n",
      "tpep_dropoff_datetime       0\n",
      "passenger_count          1402\n",
      "trip_distance               0\n",
      "RatecodeID               1402\n",
      "store_and_fwd_flag       1402\n",
      "PULocationID                0\n",
      "DOLocationID                0\n",
      "payment_type                0\n",
      "fare_amount                 0\n",
      "extra                       0\n",
      "mta_tax                     0\n",
      "tip_amount                  0\n",
      "tolls_amount                0\n",
      "improvement_surcharge       0\n",
      "total_amount                0\n",
      "congestion_surcharge     1402\n",
      "Airport_fee              1402\n",
      "dtype: int64\n"
     ]
    }
   ],
   "source": [
    "print(df.isnull().sum())"
   ]
  },
  {
   "cell_type": "code",
   "execution_count": 174,
   "id": "975b3c39-258a-4e63-b4f5-6027225a1112",
   "metadata": {},
   "outputs": [],
   "source": [
    "# drop unwanted columns\n",
    "df_drop_unwanted = df.drop(columns=['RatecodeID', 'store_and_fwd_flag'])\n",
    "\n",
    "# fill na with means\n",
    "fill_values = {\n",
    "    'passenger_count': df['passenger_count'].mean(),  \n",
    "    'congestion_surcharge': df['congestion_surcharge'].mean(),\n",
    "    'Airport_fee': df['Airport_fee'].mean(),\n",
    "}\n",
    "\n",
    "df_clean = df_drop_unwanted.fillna(fill_values) "
   ]
  },
  {
   "cell_type": "code",
   "execution_count": 175,
   "id": "90c7f560-ecba-42f3-8e9e-804550f0c8d5",
   "metadata": {},
   "outputs": [
    {
     "name": "stdout",
     "output_type": "stream",
     "text": [
      "VendorID                 0\n",
      "tpep_pickup_datetime     0\n",
      "tpep_dropoff_datetime    0\n",
      "passenger_count          0\n",
      "trip_distance            0\n",
      "PULocationID             0\n",
      "DOLocationID             0\n",
      "payment_type             0\n",
      "fare_amount              0\n",
      "extra                    0\n",
      "mta_tax                  0\n",
      "tip_amount               0\n",
      "tolls_amount             0\n",
      "improvement_surcharge    0\n",
      "total_amount             0\n",
      "congestion_surcharge     0\n",
      "Airport_fee              0\n",
      "dtype: int64\n"
     ]
    }
   ],
   "source": [
    "print(df_clean.isnull().sum())"
   ]
  },
  {
   "cell_type": "code",
   "execution_count": 223,
   "id": "dca7dde5-8d33-4d75-b2f4-56b0ffb4b53b",
   "metadata": {},
   "outputs": [
    {
     "name": "stdout",
     "output_type": "stream",
     "text": [
      "0          1.72\n",
      "100        2.16\n",
      "200        1.60\n",
      "300        0.69\n",
      "400        0.97\n",
      "           ... \n",
      "2964200    0.00\n",
      "2964300    0.83\n",
      "2964400    2.96\n",
      "2964500    2.80\n",
      "2964600    4.20\n",
      "Name: trip_distance, Length: 29647, dtype: float64\n"
     ]
    }
   ],
   "source": [
    "# 1. Remove the outliers of trip distance\n",
    "print(df_clean['trip_distance'])"
   ]
  },
  {
   "cell_type": "code",
   "execution_count": 221,
   "id": "bb3014aa-6f55-4db2-865b-46b1ded6b914",
   "metadata": {},
   "outputs": [
    {
     "data": {
      "image/png": "[encoded data removed]",
      "text/plain": [
       "<Figure size 640x480 with 1 Axes>"
      ]
     },
     "metadata": {},
     "output_type": "display_data"
    }
   ],
   "source": [
    "sns.boxplot(y=df_clean['trip_distance'])\n",
    "plt.show()\n"
   ]
  },
  {
   "cell_type": "code",
   "execution_count": 222,
   "id": "76db7b11-7947-488e-a78b-0d99f6c32220",
   "metadata": {},
   "outputs": [
    {
     "name": "stdout",
     "output_type": "stream",
     "text": [
      "0 percentile value is 0.0\n",
      "10 percentile value is 0.61\n",
      "20 percentile value is 0.89\n",
      "30 percentile value is 1.1\n",
      "40 percentile value is 1.38\n",
      "50 percentile value is 1.68\n",
      "60 percentile value is 2.07\n",
      "70 percentile value is 2.65\n",
      "80 percentile value is 3.87\n",
      "90 percentile value is 8.65\n",
      "100 percentile value is  68.46\n"
     ]
    }
   ],
   "source": [
    "#calculating trip distance values at each percntile 0-100\n",
    "for i in range(0,100,10):\n",
    "    var = df_clean[\"trip_distance\"].values\n",
    "    var = np.sort(var,axis = None)\n",
    "    print(\"{} percentile value is {}\".format(i,var[int(len(var)*(float(i)/100))]))\n",
    "print(\"100 percentile value is \",var[-1])"
   ]
  },
  {
   "cell_type": "code",
   "execution_count": 178,
   "id": "a6b49943-91f4-445c-a44b-b25deffe8a18",
   "metadata": {},
   "outputs": [
    {
     "name": "stdout",
     "output_type": "stream",
     "text": [
      "90 percentile value is 8.65\n",
      "91 percentile value is 9.31\n",
      "92 percentile value is 10.0\n",
      "93 percentile value is 10.71\n",
      "94 percentile value is 11.74\n",
      "95 percentile value is 14.13\n",
      "96 percentile value is 16.66\n",
      "97 percentile value is 17.56\n",
      "98 percentile value is 18.44\n",
      "99 percentile value is 20.02\n",
      "100 percentile value is  68.46\n"
     ]
    }
   ],
   "source": [
    "#calculating trip distance values at each percntile 90,91,92,93,94,95,96,97,98,99,100\n",
    "for i in range(90,100):\n",
    "    var = df_clean[\"trip_distance\"].values\n",
    "    var = np.sort(var,axis = None)\n",
    "    print(\"{} percentile value is {}\".format(i,var[int(len(var)*(float(i)/100))]))\n",
    "print(\"100 percentile value is \",var[-1])"
   ]
  },
  {
   "cell_type": "code",
   "execution_count": 179,
   "id": "70cfbd95-a6fb-4b6e-b0b2-7e21a4952bbf",
   "metadata": {},
   "outputs": [
    {
     "name": "stdout",
     "output_type": "stream",
     "text": [
      "99.0 percentile value is 20.02\n",
      "99.1 percentile value is 20.25\n",
      "99.2 percentile value is 20.54\n",
      "99.3 percentile value is 20.8\n",
      "99.4 percentile value is 21.09\n",
      "99.5 percentile value is 21.68\n",
      "99.6 percentile value is 22.3\n",
      "99.7 percentile value is 24.25\n",
      "99.8 percentile value is 26.33\n",
      "99.9 percentile value is 28.87\n",
      "100 percentile value is  68.46\n"
     ]
    }
   ],
   "source": [
    "#calculating trip distance values at each percntile 99.0,99.1,99.2,99.3,99.4,99.5,99.6,99.7,99.8,99.9,100\n",
    "for i in np.arange(0.0, 1.0, 0.1):\n",
    "    var = df_clean[\"trip_distance\"].values\n",
    "    var = np.sort(var,axis = None)\n",
    "    print(\"{} percentile value is {}\".format(99+i,var[int(len(var)*(float(99+i)/100))]))\n",
    "print(\"100 percentile value is \",var[-1])"
   ]
  },
  {
   "cell_type": "code",
   "execution_count": 180,
   "id": "83b22b8d-7bd0-4dee-9e31-f4ff5359985f",
   "metadata": {},
   "outputs": [
    {
     "name": "stdout",
     "output_type": "stream",
     "text": [
      "count    29617.000000\n",
      "mean         3.222010\n",
      "std          4.242976\n",
      "min          0.000000\n",
      "25%          1.000000\n",
      "50%          1.680000\n",
      "75%          3.100000\n",
      "max         28.710000\n",
      "Name: trip_distance, dtype: float64\n"
     ]
    }
   ],
   "source": [
    "threshold = df_clean['trip_distance'].quantile(0.999)\n",
    "\n",
    "# filter the data\n",
    "df_filtered = df_clean[df_clean['trip_distance'] <= threshold]\n",
    "\n",
    "# check if had done it right\n",
    "print(df_filtered['trip_distance'].describe())"
   ]
  },
  {
   "cell_type": "code",
   "execution_count": 224,
   "id": "1c26b4cf-d6b6-4d9a-9247-bf3ce8ad3046",
   "metadata": {},
   "outputs": [
    {
     "data": {
      "image/png": "[encoded data removed]",
      "text/plain": [
       "<Figure size 640x480 with 1 Axes>"
      ]
     },
     "metadata": {},
     "output_type": "display_data"
    }
   ],
   "source": [
    "# 2. Remove the outliners for total fare\n",
    "sns.boxplot(y=\"total_amount\", data =df_filtered)\n",
    "plt.show()"
   ]
  },
  {
   "cell_type": "code",
   "execution_count": 225,
   "id": "1d809989-a07a-4a96-ab31-ce3e5379333a",
   "metadata": {},
   "outputs": [
    {
     "name": "stdout",
     "output_type": "stream",
     "text": [
      "0 percentile value is -154.1\n",
      "10 percentile value is 12.6\n",
      "20 percentile value is 14.4\n",
      "30 percentile value is 16.3\n",
      "40 percentile value is 18.0\n",
      "50 percentile value is 20.02\n",
      "60 percentile value is 22.65\n",
      "70 percentile value is 26.1\n",
      "80 percentile value is 32.25\n",
      "90 percentile value is 54.69\n",
      "100 percentile value is  364.2\n"
     ]
    }
   ],
   "source": [
    "#calculating trip distance values at each percntile 0-100\n",
    "for i in range(0,100,10):\n",
    "    var = df_filtered[\"total_amount\"].values\n",
    "    var = np.sort(var,axis = None)\n",
    "    print(\"{} percentile value is {}\".format(i,var[int(len(var)*(float(i)/100))]))\n",
    "print(\"100 percentile value is \",var[-1])"
   ]
  },
  {
   "cell_type": "code",
   "execution_count": 170,
   "id": "65d9b074-335b-4cc0-996d-97d979ebf402",
   "metadata": {},
   "outputs": [
    {
     "name": "stdout",
     "output_type": "stream",
     "text": [
      "90 percentile value is 54.69\n",
      "91 percentile value is 59.93\n",
      "92 percentile value is 64.39\n",
      "93 percentile value is 69.49\n",
      "94 percentile value is 74.34\n",
      "95 percentile value is 80.19\n",
      "96 percentile value is 85.94\n",
      "97 percentile value is 91.68\n",
      "98 percentile value is 98.88\n",
      "99 percentile value is 103.79\n",
      "100 percentile value is  364.2\n"
     ]
    }
   ],
   "source": [
    "#calculating total fare amount values at each percntile 90,91,92,93,94,95,96,97,98,99,100\n",
    "for i in range(90,100):\n",
    "    var = df_filtered[\"total_amount\"].values\n",
    "    var = np.sort(var,axis = None)\n",
    "    print(\"{} percentile value is {}\".format(i,var[int(len(var)*(float(i)/100))]))\n",
    "print(\"100 percentile value is \",var[-1])"
   ]
  },
  {
   "cell_type": "code",
   "execution_count": 172,
   "id": "3e0e7eb7-b20d-4e1e-bcff-6782f8c634b6",
   "metadata": {},
   "outputs": [
    {
     "name": "stdout",
     "output_type": "stream",
     "text": [
      "99.0 percentile value is 103.79\n",
      "99.1 percentile value is 104.88\n",
      "99.2 percentile value is 105.22\n",
      "99.3 percentile value is 105.63\n",
      "99.4 percentile value is 107.69\n",
      "99.5 percentile value is 110.25\n",
      "99.6 percentile value is 117.0\n",
      "99.7 percentile value is 123.25\n",
      "99.8 percentile value is 131.45\n",
      "99.9 percentile value is 145.31\n",
      "100 percentile value is  364.2\n"
     ]
    }
   ],
   "source": [
    "#calculating total fare amount values at each percntile 99.0,99.1,99.2,99.3,99.4,99.5,99.6,99.7,99.8,99.9,100\n",
    "for i in np.arange(0.0, 1.0, 0.1):\n",
    "    var = df_filtered[\"total_amount\"].values\n",
    "    var = np.sort(var,axis = None)\n",
    "    print(\"{} percentile value is {}\".format(99+i,var[int(len(var)*(float(99+i)/100))]))\n",
    "print(\"100 percentile value is \",var[-1])"
   ]
  },
  {
   "cell_type": "code",
   "execution_count": 173,
   "id": "fa392e27-ae91-4d25-be46-21343b3c2cf2",
   "metadata": {},
   "outputs": [
    {
     "name": "stdout",
     "output_type": "stream",
     "text": [
      "count    29587.000000\n",
      "mean        26.656049\n",
      "std         21.450345\n",
      "min       -154.100000\n",
      "25%         15.400000\n",
      "50%         20.020000\n",
      "75%         28.560000\n",
      "max        144.550000\n",
      "Name: total_amount, dtype: float64\n"
     ]
    }
   ],
   "source": [
    "threshold = df_filtered['total_amount'].quantile(0.999)\n",
    "\n",
    "# filter the data\n",
    "df_filtered_with_fare = df_filtered[df_filtered['total_amount'] <= threshold]\n",
    "\n",
    "# check if had done it right\n",
    "print(df_filtered_with_fare['total_amount'].describe())"
   ]
  },
  {
   "cell_type": "code",
   "execution_count": 282,
   "id": "6f3130d8-5c3a-4831-ac56-199bcf51ac21",
   "metadata": {},
   "outputs": [
    {
     "data": {
      "image/png": "[encoded data removed]",
      "text/plain": [
       "<Figure size 640x480 with 1 Axes>"
      ]
     },
     "metadata": {},
     "output_type": "display_data"
    },
    {
     "name": "stdout",
     "output_type": "stream",
     "text": [
      "0 percentile value is -154.1\n",
      "10 percentile value is 12.6\n",
      "20 percentile value is 14.4\n",
      "30 percentile value is 16.3\n",
      "40 percentile value is 18.0\n",
      "50 percentile value is 20.02\n",
      "60 percentile value is 22.61\n",
      "70 percentile value is 26.04\n",
      "80 percentile value is 32.2\n",
      "90 percentile value is 54.19\n",
      "100 percentile value is  144.55\n",
      "90 percentile value is 54.19\n",
      "91 percentile value is 59.38\n",
      "92 percentile value is 64.09\n",
      "93 percentile value is 69.0\n",
      "94 percentile value is 74.0\n",
      "95 percentile value is 79.65\n",
      "96 percentile value is 85.75\n",
      "97 percentile value is 90.94\n",
      "98 percentile value is 97.69\n",
      "99 percentile value is 102.92\n",
      "100 percentile value is  144.55\n",
      "0 percentile value is -154.1\n",
      "1 percentile value is -10.2\n",
      "2 percentile value is 8.4\n",
      "3 percentile value is 9.8\n",
      "4 percentile value is 10.5\n",
      "5 percentile value is 10.92\n",
      "6 percentile value is 11.27\n",
      "7 percentile value is 11.76\n",
      "8 percentile value is 11.9\n",
      "9 percentile value is 12.2\n",
      "100 percentile value is  144.55\n",
      "99.0 percentile value is 102.92\n",
      "99.1 percentile value is 103.79\n",
      "99.2 percentile value is 104.88\n",
      "99.3 percentile value is 105.22\n",
      "99.4 percentile value is 105.63\n",
      "99.5 percentile value is 107.69\n",
      "99.6 percentile value is 110.25\n",
      "99.7 percentile value is 117.0\n",
      "99.8 percentile value is 122.94\n",
      "99.9 percentile value is 131.45\n",
      "100 percentile value is  144.55\n"
     ]
    }
   ],
   "source": [
    "# 3. Remove outlier in tip amount\n",
    "sns.boxplot(y=df_filtered_with_fare['tip_amount'])\n",
    "plt.show()\n",
    "\n",
    "#calculating trip distance values at each percntile 0-100\n",
    "for i in range(0,100,10):\n",
    "    var = df_filtered_with_fare[\"total_amount\"].values\n",
    "    var = np.sort(var,axis = None)\n",
    "    print(\"{} percentile value is {}\".format(i,var[int(len(var)*(float(i)/100))]))\n",
    "print(\"100 percentile value is \",var[-1])\n",
    "\n",
    "#calculating total fare amount values at each percntile 90,91,92,93,94,95,96,97,98,99,100\n",
    "for i in range(90,100):\n",
    "    var = df_filtered_with_fare[\"total_amount\"].values\n",
    "    var = np.sort(var,axis = None)\n",
    "    print(\"{} percentile value is {}\".format(i,var[int(len(var)*(float(i)/100))]))\n",
    "print(\"100 percentile value is \",var[-1])\n",
    "\n",
    "for i in range(0,10):\n",
    "    var = df_filtered_with_fare[\"total_amount\"].values\n",
    "    var = np.sort(var,axis = None)\n",
    "    print(\"{} percentile value is {}\".format(i,var[int(len(var)*(float(i)/100))]))\n",
    "print(\"100 percentile value is \",var[-1])\n",
    "\n",
    "#calculating total fare amount values at each percntile 99.0,99.1,99.2,99.3,99.4,99.5,99.6,99.7,99.8,99.9,100\n",
    "for i in np.arange(0.0, 1.0, 0.1):\n",
    "    var = df_filtered_with_fare[\"total_amount\"].values\n",
    "    var = np.sort(var,axis = None)\n",
    "    print(\"{} percentile value is {}\".format(99+i,var[int(len(var)*(float(99+i)/100))]))\n",
    "print(\"100 percentile value is \",var[-1])"
   ]
  },
  {
   "cell_type": "code",
   "execution_count": 283,
   "id": "60d8235c-6053-483f-a44b-aadee10a5b83",
   "metadata": {},
   "outputs": [
    {
     "name": "stdout",
     "output_type": "stream",
     "text": [
      "count    29262.000000\n",
      "mean        27.099162\n",
      "std         20.400007\n",
      "min        -10.200000\n",
      "25%         15.480000\n",
      "50%         20.150000\n",
      "75%         28.640000\n",
      "max        131.400000\n",
      "Name: total_amount, dtype: float64\n"
     ]
    }
   ],
   "source": [
    "# there is outliers both in the upper end and the lower end\n",
    "upper_threshold = df_filtered_with_fare['total_amount'].quantile(0.999)\n",
    "lower_threshold = df_filtered_with_fare['total_amount'].quantile(0.01)\n",
    "\n",
    "df_filtered_with_tip = df_filtered_with_fare[\n",
    "    (df_filtered_with_fare['total_amount'] >= lower_threshold) & \n",
    "    (df_filtered_with_fare['total_amount'] <= upper_threshold)\n",
    "]\n",
    "\n",
    "print(df_filtered_with_tip['total_amount'].describe())"
   ]
  },
  {
   "cell_type": "code",
   "execution_count": 287,
   "id": "17cb6554-1d2f-446d-9ba5-3b4bb794b8a3",
   "metadata": {},
   "outputs": [
    {
     "data": {
      "image/png": "[encoded data removed]",
      "text/plain": [
       "<Figure size 640x480 with 1 Axes>"
      ]
     },
     "metadata": {},
     "output_type": "display_data"
    },
    {
     "name": "stdout",
     "output_type": "stream",
     "text": [
      "0 percentile value is -2.5\n",
      "10 percentile value is 0.0\n",
      "20 percentile value is 0.0\n",
      "30 percentile value is 0.0\n",
      "40 percentile value is 0.0\n",
      "50 percentile value is 1.0\n",
      "60 percentile value is 1.0\n",
      "70 percentile value is 2.5\n",
      "80 percentile value is 2.5\n",
      "90 percentile value is 3.5\n",
      "100 percentile value is  11.75\n",
      "90 percentile value is 3.5\n",
      "91 percentile value is 4.25\n",
      "92 percentile value is 5.0\n",
      "93 percentile value is 5.0\n",
      "94 percentile value is 5.0\n",
      "95 percentile value is 5.0\n",
      "96 percentile value is 5.0\n",
      "97 percentile value is 5.0\n",
      "98 percentile value is 6.0\n",
      "99 percentile value is 7.5\n",
      "100 percentile value is  11.75\n"
     ]
    }
   ],
   "source": [
    "# 4. Remove outlier in extra\n",
    "\n",
    "sns.boxplot(y=df_filtered_with_tip['extra'])\n",
    "plt.show()\n",
    "\n",
    "for i in range(0,100,10):\n",
    "    var = df_filtered_with_tip[\"extra\"].values\n",
    "    var = np.sort(var,axis = None)\n",
    "    print(\"{} percentile value is {}\".format(i,var[int(len(var)*(float(i)/100))]))\n",
    "print(\"100 percentile value is \",var[-1])\n",
    "\n",
    "for i in range(90,100):\n",
    "    var = df_filtered_with_tip[\"extra\"].values\n",
    "    var = np.sort(var,axis = None)\n",
    "    print(\"{} percentile value is {}\".format(i,var[int(len(var)*(float(i)/100))]))\n",
    "print(\"100 percentile value is \",var[-1])\n",
    "\n",
    "# According to the results, there is no significant outliers detected."
   ]
  },
  {
   "cell_type": "markdown",
   "id": "0fcc843f-6180-473f-95cf-297af963401f",
   "metadata": {},
   "source": [
    "# Data Visualization"
   ]
  },
  {
   "cell_type": "code",
   "execution_count": 288,
   "id": "b4ebd91d-48a4-40e3-9609-57c6ea3b92ab",
   "metadata": {},
   "outputs": [],
   "source": [
    "# create new features for pickup hour and pickup weekday\n",
    "df_filtered_with_tip.loc[:,'pickup_hour'] = df_filtered_with_tip['tpep_pickup_datetime'].dt.hour\n",
    "df_filtered_with_tip.loc[:,'pickup_weekday'] = df_filtered_with_tip['tpep_pickup_datetime'].dt.weekday"
   ]
  },
  {
   "cell_type": "code",
   "execution_count": 235,
   "id": "a6ab1205-247e-462b-9652-276cd1f0dce7",
   "metadata": {},
   "outputs": [
    {
     "name": "stdout",
     "output_type": "stream",
     "text": [
      "Index(['LocationID', 'Borough', 'Zone', 'service_zone'], dtype='object')\n"
     ]
    }
   ],
   "source": [
    "# Load the taxi zone look up file to map the location ID into actual location names\n",
    "zone_mapping = pd.read_csv('E:/Goldsmiths/machinelearning/taxi_zone_lookup.csv')\n",
    "print(zone_mapping.columns)"
   ]
  },
  {
   "cell_type": "code",
   "execution_count": 289,
   "id": "8523772c-d8df-49af-85c7-ee5a494c8c38",
   "metadata": {},
   "outputs": [],
   "source": [
    "df_merge_PU = df_filtered_with_tip.merge(\n",
    "    zone_mapping[['LocationID', 'Zone', 'Borough']],\n",
    "    left_on='PULocationID',\n",
    "    right_on='LocationID',\n",
    "    how='left',\n",
    "    suffixes=('_PU', '_DO')\n",
    ")\n",
    "df_merge_PU.rename(columns={'Zone_PU': 'PU_Zone', 'Borough_PU': 'PU_Borough'}, inplace=True)"
   ]
  },
  {
   "cell_type": "code",
   "execution_count": 290,
   "id": "84fc5bd6-dc97-4c2e-9d17-754d64c87481",
   "metadata": {},
   "outputs": [],
   "source": [
    "df_merge_DO = df_merge_PU.merge(\n",
    "    zone_mapping[['LocationID', 'Zone', 'Borough']],\n",
    "    left_on='DOLocationID',\n",
    "    right_on='LocationID',\n",
    "    how='left',\n",
    "    suffixes=('_PU', '_DO')\n",
    ")\n",
    "df_merge_DO.rename(columns={'Zone_DO': 'DO_Zone', 'Borough_DO': 'DO_Borough'}, inplace=True)"
   ]
  },
  {
   "cell_type": "code",
   "execution_count": 50,
   "id": "df9f81d6-3a9d-4317-9bb0-c005cd7fc802",
   "metadata": {},
   "outputs": [
    {
     "data": {
      "text/html": [
       "<div>\n",
       "<style scoped>\n",
       "    .dataframe tbody tr th:only-of-type {\n",
       "        vertical-align: middle;\n",
       "    }\n",
       "\n",
       "    .dataframe tbody tr th {\n",
       "        vertical-align: top;\n",
       "    }\n",
       "\n",
       "    .dataframe thead th {\n",
       "        text-align: right;\n",
       "    }\n",
       "</style>\n",
       "<table border=\"1\" class=\"dataframe\">\n",
       "  <thead>\n",
       "    <tr style=\"text-align: right;\">\n",
       "      <th></th>\n",
       "      <th>VendorID</th>\n",
       "      <th>tpep_pickup_datetime</th>\n",
       "      <th>tpep_dropoff_datetime</th>\n",
       "      <th>passenger_count</th>\n",
       "      <th>trip_distance</th>\n",
       "      <th>RatecodeID</th>\n",
       "      <th>store_and_fwd_flag</th>\n",
       "      <th>PULocationID</th>\n",
       "      <th>DOLocationID</th>\n",
       "      <th>payment_type</th>\n",
       "      <th>...</th>\n",
       "      <th>Airport_fee</th>\n",
       "      <th>LocationID_PU</th>\n",
       "      <th>Zone_PU</th>\n",
       "      <th>Borough_PU</th>\n",
       "      <th>LocationID_DO</th>\n",
       "      <th>DO_Zone</th>\n",
       "      <th>DO_Borough</th>\n",
       "      <th>LocationID</th>\n",
       "      <th>Zone</th>\n",
       "      <th>Borough</th>\n",
       "    </tr>\n",
       "  </thead>\n",
       "  <tbody>\n",
       "    <tr>\n",
       "      <th>0</th>\n",
       "      <td>2</td>\n",
       "      <td>2024-01-01 00:57:55</td>\n",
       "      <td>2024-01-01 01:17:43</td>\n",
       "      <td>1.0</td>\n",
       "      <td>1.72</td>\n",
       "      <td>1.0</td>\n",
       "      <td>N</td>\n",
       "      <td>186</td>\n",
       "      <td>79</td>\n",
       "      <td>2</td>\n",
       "      <td>...</td>\n",
       "      <td>0.0</td>\n",
       "      <td>186</td>\n",
       "      <td>Penn Station/Madison Sq West</td>\n",
       "      <td>Manhattan</td>\n",
       "      <td>186</td>\n",
       "      <td>Penn Station/Madison Sq West</td>\n",
       "      <td>Manhattan</td>\n",
       "      <td>79</td>\n",
       "      <td>East Village</td>\n",
       "      <td>Manhattan</td>\n",
       "    </tr>\n",
       "    <tr>\n",
       "      <th>1</th>\n",
       "      <td>2</td>\n",
       "      <td>2024-01-01 00:18:24</td>\n",
       "      <td>2024-01-01 00:30:39</td>\n",
       "      <td>1.0</td>\n",
       "      <td>2.16</td>\n",
       "      <td>1.0</td>\n",
       "      <td>N</td>\n",
       "      <td>249</td>\n",
       "      <td>232</td>\n",
       "      <td>4</td>\n",
       "      <td>...</td>\n",
       "      <td>0.0</td>\n",
       "      <td>249</td>\n",
       "      <td>West Village</td>\n",
       "      <td>Manhattan</td>\n",
       "      <td>249</td>\n",
       "      <td>West Village</td>\n",
       "      <td>Manhattan</td>\n",
       "      <td>232</td>\n",
       "      <td>Two Bridges/Seward Park</td>\n",
       "      <td>Manhattan</td>\n",
       "    </tr>\n",
       "    <tr>\n",
       "      <th>2</th>\n",
       "      <td>1</td>\n",
       "      <td>2024-01-01 00:43:28</td>\n",
       "      <td>2024-01-01 00:56:45</td>\n",
       "      <td>1.0</td>\n",
       "      <td>1.60</td>\n",
       "      <td>1.0</td>\n",
       "      <td>N</td>\n",
       "      <td>161</td>\n",
       "      <td>263</td>\n",
       "      <td>1</td>\n",
       "      <td>...</td>\n",
       "      <td>0.0</td>\n",
       "      <td>161</td>\n",
       "      <td>Midtown Center</td>\n",
       "      <td>Manhattan</td>\n",
       "      <td>161</td>\n",
       "      <td>Midtown Center</td>\n",
       "      <td>Manhattan</td>\n",
       "      <td>263</td>\n",
       "      <td>Yorkville West</td>\n",
       "      <td>Manhattan</td>\n",
       "    </tr>\n",
       "    <tr>\n",
       "      <th>3</th>\n",
       "      <td>2</td>\n",
       "      <td>2024-01-01 00:14:36</td>\n",
       "      <td>2024-01-01 00:19:20</td>\n",
       "      <td>1.0</td>\n",
       "      <td>0.69</td>\n",
       "      <td>1.0</td>\n",
       "      <td>N</td>\n",
       "      <td>224</td>\n",
       "      <td>4</td>\n",
       "      <td>2</td>\n",
       "      <td>...</td>\n",
       "      <td>0.0</td>\n",
       "      <td>224</td>\n",
       "      <td>Stuy Town/Peter Cooper Village</td>\n",
       "      <td>Manhattan</td>\n",
       "      <td>224</td>\n",
       "      <td>Stuy Town/Peter Cooper Village</td>\n",
       "      <td>Manhattan</td>\n",
       "      <td>4</td>\n",
       "      <td>Alphabet City</td>\n",
       "      <td>Manhattan</td>\n",
       "    </tr>\n",
       "    <tr>\n",
       "      <th>4</th>\n",
       "      <td>2</td>\n",
       "      <td>2024-01-01 00:50:26</td>\n",
       "      <td>2024-01-01 00:57:56</td>\n",
       "      <td>1.0</td>\n",
       "      <td>0.97</td>\n",
       "      <td>1.0</td>\n",
       "      <td>N</td>\n",
       "      <td>236</td>\n",
       "      <td>75</td>\n",
       "      <td>2</td>\n",
       "      <td>...</td>\n",
       "      <td>0.0</td>\n",
       "      <td>236</td>\n",
       "      <td>Upper East Side North</td>\n",
       "      <td>Manhattan</td>\n",
       "      <td>236</td>\n",
       "      <td>Upper East Side North</td>\n",
       "      <td>Manhattan</td>\n",
       "      <td>75</td>\n",
       "      <td>East Harlem South</td>\n",
       "      <td>Manhattan</td>\n",
       "    </tr>\n",
       "  </tbody>\n",
       "</table>\n",
       "<p>5 rows × 28 columns</p>\n",
       "</div>"
      ],
      "text/plain": [
       "   VendorID tpep_pickup_datetime tpep_dropoff_datetime  passenger_count  \\\n",
       "0         2  2024-01-01 00:57:55   2024-01-01 01:17:43              1.0   \n",
       "1         2  2024-01-01 00:18:24   2024-01-01 00:30:39              1.0   \n",
       "2         1  2024-01-01 00:43:28   2024-01-01 00:56:45              1.0   \n",
       "3         2  2024-01-01 00:14:36   2024-01-01 00:19:20              1.0   \n",
       "4         2  2024-01-01 00:50:26   2024-01-01 00:57:56              1.0   \n",
       "\n",
       "   trip_distance  RatecodeID store_and_fwd_flag  PULocationID  DOLocationID  \\\n",
       "0           1.72         1.0                  N           186            79   \n",
       "1           2.16         1.0                  N           249           232   \n",
       "2           1.60         1.0                  N           161           263   \n",
       "3           0.69         1.0                  N           224             4   \n",
       "4           0.97         1.0                  N           236            75   \n",
       "\n",
       "   payment_type  ...  Airport_fee  LocationID_PU  \\\n",
       "0             2  ...          0.0            186   \n",
       "1             4  ...          0.0            249   \n",
       "2             1  ...          0.0            161   \n",
       "3             2  ...          0.0            224   \n",
       "4             2  ...          0.0            236   \n",
       "\n",
       "                          Zone_PU  Borough_PU  LocationID_DO  \\\n",
       "0    Penn Station/Madison Sq West   Manhattan            186   \n",
       "1                    West Village   Manhattan            249   \n",
       "2                  Midtown Center   Manhattan            161   \n",
       "3  Stuy Town/Peter Cooper Village   Manhattan            224   \n",
       "4           Upper East Side North   Manhattan            236   \n",
       "\n",
       "                          DO_Zone  DO_Borough  LocationID  \\\n",
       "0    Penn Station/Madison Sq West   Manhattan          79   \n",
       "1                    West Village   Manhattan         232   \n",
       "2                  Midtown Center   Manhattan         263   \n",
       "3  Stuy Town/Peter Cooper Village   Manhattan           4   \n",
       "4           Upper East Side North   Manhattan          75   \n",
       "\n",
       "                      Zone    Borough  \n",
       "0             East Village  Manhattan  \n",
       "1  Two Bridges/Seward Park  Manhattan  \n",
       "2           Yorkville West  Manhattan  \n",
       "3            Alphabet City  Manhattan  \n",
       "4        East Harlem South  Manhattan  \n",
       "\n",
       "[5 rows x 28 columns]"
      ]
     },
     "execution_count": 50,
     "metadata": {},
     "output_type": "execute_result"
    }
   ],
   "source": [
    "df_merge_DO.head()"
   ]
  },
  {
   "cell_type": "code",
   "execution_count": 11,
   "id": "8f065060-886b-4ce4-bbc4-6ad942e4bce9",
   "metadata": {},
   "outputs": [
    {
     "name": "stdout",
     "output_type": "stream",
     "text": [
      "Number of duplicate LocationIDs: 0\n"
     ]
    }
   ],
   "source": [
    "# Check if the merge is right\n",
    "is_duplicate = zone_mapping['LocationID'].duplicated().sum()\n",
    "print(f\"Number of duplicate LocationIDs: {is_duplicate}\") "
   ]
  },
  {
   "cell_type": "code",
   "execution_count": 229,
   "id": "84d27f28-3a20-481d-92a2-3c1d8c5ee0d7",
   "metadata": {
    "scrolled": true
   },
   "outputs": [
    {
     "data": {
      "image/png": "[encoded data removed]",
      "text/plain": [
       "<Figure size 640x480 with 1 Axes>"
      ]
     },
     "metadata": {},
     "output_type": "display_data"
    }
   ],
   "source": [
    "# Plot data over time to spot trends\n",
    "# the trip distance ranges within a day\n",
    "df_merge_DO.groupby(df_merge_DO['tpep_pickup_datetime'].dt.hour)['trip_distance'].mean().plot(kind='line')\n",
    "plt.show()"
   ]
  },
  {
   "cell_type": "code",
   "execution_count": 230,
   "id": "3dc76bc6-f22f-43d1-9a2c-7628e1b48449",
   "metadata": {},
   "outputs": [
    {
     "data": {
      "image/png": "[encoded data removed]",
      "text/plain": [
       "<Figure size 640x480 with 1 Axes>"
      ]
     },
     "metadata": {},
     "output_type": "display_data"
    }
   ],
   "source": [
    "# congestions ranges within a day\n",
    "df_merge_DO.groupby(df_merge_DO['tpep_pickup_datetime'].dt.weekday)['congestion_surcharge'].mean().plot(kind='line')\n",
    "plt.show()"
   ]
  },
  {
   "cell_type": "code",
   "execution_count": 232,
   "id": "c1929bc3-20fc-49e1-ac35-c25c23e58c1c",
   "metadata": {},
   "outputs": [
    {
     "name": "stdout",
     "output_type": "stream",
     "text": [
      "Zone_PU\n",
      "Allerton/Pelham Gardens    3.000000\n",
      "Alphabet City              4.161290\n",
      "Astoria                    3.117647\n",
      "Auburndale                 1.000000\n",
      "Baisley Park               2.857143\n",
      "                             ...   \n",
      "Woodlawn/Wakefield         2.000000\n",
      "Woodside                   3.000000\n",
      "World Trade Center         2.868421\n",
      "Yorkville East             2.628429\n",
      "Yorkville West             2.953528\n",
      "Name: pickup_weekday, Length: 196, dtype: float64\n"
     ]
    }
   ],
   "source": [
    "# the busiest weekday in different zone\n",
    "mean_weekday_by_zone = df_merge_DO.groupby('Zone_PU')['pickup_weekday'].mean()\n",
    "print(mean_weekday_by_zone)"
   ]
  },
  {
   "cell_type": "code",
   "execution_count": 234,
   "id": "7a18ea0c-fc65-44cf-9871-e3daafc75d92",
   "metadata": {},
   "outputs": [
    {
     "name": "stdout",
     "output_type": "stream",
     "text": [
      "Zone_PU\n",
      "Allerton/Pelham Gardens     6.666667\n",
      "Alphabet City               8.677419\n",
      "Astoria                    10.235294\n",
      "Auburndale                 15.000000\n",
      "Baisley Park               13.285714\n",
      "                             ...    \n",
      "Woodlawn/Wakefield          6.000000\n",
      "Woodside                    7.800000\n",
      "World Trade Center         15.096491\n",
      "Yorkville East             12.593516\n",
      "Yorkville West             13.495697\n",
      "Name: pickup_hour, Length: 196, dtype: float64\n"
     ]
    }
   ],
   "source": [
    "# the busiest hour in different zone\n",
    "mean_weekday_by_zone = df_merge_DO.groupby('Zone_PU')['pickup_hour'].mean()\n",
    "print(mean_weekday_by_zone)"
   ]
  },
  {
   "cell_type": "code",
   "execution_count": 58,
   "id": "e8557ccb-56e8-4256-9807-57280970ed67",
   "metadata": {},
   "outputs": [
    {
     "name": "stdout",
     "output_type": "stream",
     "text": [
      "Zone_PU\n",
      "Allerton/Pelham Gardens     4.400000\n",
      "Alphabet City               3.062258\n",
      "Astoria                     3.365294\n",
      "Auburndale                  5.460000\n",
      "Baisley Park                9.950000\n",
      "                             ...    \n",
      "Woodlawn/Wakefield         12.000000\n",
      "Woodside                    4.178000\n",
      "World Trade Center          3.760088\n",
      "Yorkville East              2.193392\n",
      "Yorkville West              2.331443\n",
      "Name: trip_distance, Length: 197, dtype: float64\n"
     ]
    }
   ],
   "source": [
    "# Group by Borough and calculate statistics\n",
    "traffic_by_borough = df_merge_DO.groupby('Zone_PU')['trip_distance'].mean()  # Get the average trip distance per borough\n",
    "print(traffic_by_borough)"
   ]
  },
  {
   "cell_type": "code",
   "execution_count": 237,
   "id": "cf879f73-3c6e-41d7-bec3-9d6f51eac097",
   "metadata": {},
   "outputs": [],
   "source": [
    "# load the shape file to visualize the business of each zone on the map\n",
    "shapefile_path = 'E:/Goldsmiths/machinelearning/taxi_zones/taxi_zones.shp'\n",
    "taxi_zones = gpd.read_file(shapefile_path)"
   ]
  },
  {
   "cell_type": "code",
   "execution_count": 61,
   "id": "fa0d169f-a716-4627-9ffd-86707ab7ae42",
   "metadata": {},
   "outputs": [
    {
     "name": "stdout",
     "output_type": "stream",
     "text": [
      "   OBJECTID  Shape_Leng  Shape_Area                     zone  LocationID  \\\n",
      "0         1    0.116357    0.000782           Newark Airport           1   \n",
      "1         2    0.433470    0.004866              Jamaica Bay           2   \n",
      "2         3    0.084341    0.000314  Allerton/Pelham Gardens           3   \n",
      "3         4    0.043567    0.000112            Alphabet City           4   \n",
      "4         5    0.092146    0.000498            Arden Heights           5   \n",
      "\n",
      "         borough                                           geometry  \n",
      "0            EWR  POLYGON ((933100.918 192536.086, 933091.011 19...  \n",
      "1         Queens  MULTIPOLYGON (((1033269.244 172126.008, 103343...  \n",
      "2          Bronx  POLYGON ((1026308.770 256767.698, 1026495.593 ...  \n",
      "3      Manhattan  POLYGON ((992073.467 203714.076, 992068.667 20...  \n",
      "4  Staten Island  POLYGON ((935843.310 144283.336, 936046.565 14...  \n"
     ]
    }
   ],
   "source": [
    "print(taxi_zones.head())"
   ]
  },
  {
   "cell_type": "code",
   "execution_count": 62,
   "id": "762cf9f0-c7ac-431b-8974-4313b76243aa",
   "metadata": {},
   "outputs": [
    {
     "name": "stdout",
     "output_type": "stream",
     "text": [
      "<class 'geopandas.geodataframe.GeoDataFrame'>\n",
      "RangeIndex: 263 entries, 0 to 262\n",
      "Data columns (total 7 columns):\n",
      " #   Column      Non-Null Count  Dtype   \n",
      "---  ------      --------------  -----   \n",
      " 0   OBJECTID    263 non-null    int64   \n",
      " 1   Shape_Leng  263 non-null    float64 \n",
      " 2   Shape_Area  263 non-null    float64 \n",
      " 3   zone        263 non-null    object  \n",
      " 4   LocationID  263 non-null    int64   \n",
      " 5   borough     263 non-null    object  \n",
      " 6   geometry    263 non-null    geometry\n",
      "dtypes: float64(2), geometry(1), int64(2), object(2)\n",
      "memory usage: 14.5+ KB\n",
      "None\n"
     ]
    }
   ],
   "source": [
    "print(taxi_zones.info())"
   ]
  },
  {
   "cell_type": "code",
   "execution_count": 218,
   "id": "f5e76d59-ca19-446f-bb4c-c503d5703a7a",
   "metadata": {},
   "outputs": [
    {
     "name": "stdout",
     "output_type": "stream",
     "text": [
      "   VendorID tpep_pickup_datetime tpep_dropoff_datetime  passenger_count  \\\n",
      "0         2  2024-01-01 00:57:55   2024-01-01 01:17:43              1.0   \n",
      "1         2  2024-01-01 00:18:24   2024-01-01 00:30:39              1.0   \n",
      "2         1  2024-01-01 00:43:28   2024-01-01 00:56:45              1.0   \n",
      "3         2  2024-01-01 00:14:36   2024-01-01 00:19:20              1.0   \n",
      "4         2  2024-01-01 00:50:26   2024-01-01 00:57:56              1.0   \n",
      "\n",
      "   trip_distance  RatecodeID store_and_fwd_flag  PULocationID  DOLocationID  \\\n",
      "0           1.72         1.0                  N           186            79   \n",
      "1           2.16         1.0                  N           249           232   \n",
      "2           1.60         1.0                  N           161           263   \n",
      "3           0.69         1.0                  N           224             4   \n",
      "4           0.97         1.0                  N           236            75   \n",
      "\n",
      "   payment_type  ...  pickup_weekday  LocationID_PU  \\\n",
      "0             2  ...               0            186   \n",
      "1             4  ...               0            249   \n",
      "2             1  ...               0            161   \n",
      "3             2  ...               0            224   \n",
      "4             2  ...               0            236   \n",
      "\n",
      "                          Zone_PU  Borough_PU  LocationID_DO  \\\n",
      "0    Penn Station/Madison Sq West   Manhattan             79   \n",
      "1                    West Village   Manhattan            232   \n",
      "2                  Midtown Center   Manhattan            263   \n",
      "3  Stuy Town/Peter Cooper Village   Manhattan              4   \n",
      "4           Upper East Side North   Manhattan             75   \n",
      "\n",
      "                   DO_Zone  DO_Borough  LocationID  \\\n",
      "0             East Village   Manhattan       186.0   \n",
      "1  Two Bridges/Seward Park   Manhattan       249.0   \n",
      "2           Yorkville West   Manhattan       161.0   \n",
      "3            Alphabet City   Manhattan       224.0   \n",
      "4        East Harlem South   Manhattan       236.0   \n",
      "\n",
      "                                            geometry  trip_counts  \n",
      "0  POLYGON ((986752.603 210853.699, 986627.863 21...       1090.0  \n",
      "1  POLYGON ((983555.319 204876.901, 983469.158 20...        697.0  \n",
      "2  POLYGON ((991081.026 214453.698, 990952.644 21...       1478.0  \n",
      "3  POLYGON ((991147.703 207200.071, 991189.448 20...         41.0  \n",
      "4  POLYGON ((995940.048 221122.920, 995812.322 22...       1343.0  \n",
      "\n",
      "[5 rows x 30 columns]\n"
     ]
    }
   ],
   "source": [
    "# Ensure correct data types\n",
    "df_merge_DO['LocationID_PU'] = df_merge_DO['LocationID_PU'].astype(int)\n",
    "# Merge with the shapefile to get geometry information\n",
    "merged_data = df_merge_DO.merge(taxi_zones[['LocationID', 'geometry']], left_on='LocationID_PU', right_on='LocationID', how='left')\n",
    "# Create a DataFrame with the trip counts\n",
    "trip_counts_df = pd.DataFrame({'Zone_PU': zone_trip_counts.index, 'trip_counts': zone_trip_counts.values})\n",
    "\n",
    "# Merge with the GeoDataFrame\n",
    "merged_with_counts = merged_data.merge(trip_counts_df, left_on='Zone_PU', right_on='Zone_PU', how='left')\n",
    "\n",
    "# Ensure it's a GeoDataFrame with a valid geometry column\n",
    "if not isinstance(merged_with_counts, gpd.GeoDataFrame):\n",
    "    merged_with_counts = gpd.GeoDataFrame(merged_with_counts, geometry='geometry')\n",
    "\n",
    "print(merged_with_counts.head())"
   ]
  },
  {
   "cell_type": "code",
   "execution_count": 211,
   "id": "d8671d2d-df26-476e-806f-c743f251ed8d",
   "metadata": {},
   "outputs": [
    {
     "data": {
      "text/plain": [
       "<Figure size 1000x800 with 0 Axes>"
      ]
     },
     "metadata": {},
     "output_type": "display_data"
    },
    {
     "data": {
      "image/png": "[encoded data removed]",
      "text/plain": [
       "<Figure size 640x480 with 2 Axes>"
      ]
     },
     "metadata": {},
     "output_type": "display_data"
    }
   ],
   "source": [
    "# Ensure the data is a GeoDataFrame\n",
    "if not isinstance(merged_data, gpd.GeoDataFrame):\n",
    "    merged_data = gpd.GeoDataFrame(merged_data, geometry='geometry')\n",
    "\n",
    "# Plot the map\n",
    "plt.figure(figsize=(10, 8))\n",
    "# Use 'trip_counts' to determine the color of each zone\n",
    "merged_with_counts.plot(column='trip_counts', cmap='OrRd', legend=True, legend_kwds={'label': \"Trip Counts\", 'orientation': \"horizontal\"})\n",
    "plt.title(\"Trip Counts by Pickup Zone\")\n",
    "plt.show()\n"
   ]
  },
  {
   "cell_type": "code",
   "execution_count": 217,
   "id": "da67cc11-e5d9-455b-97b2-2ac40240b074",
   "metadata": {},
   "outputs": [
    {
     "data": {
      "text/plain": [
       "<Figure size 1000x800 with 0 Axes>"
      ]
     },
     "metadata": {},
     "output_type": "display_data"
    },
    {
     "data": {
      "image/png": "[encoded data removed]",
      "text/plain": [
       "<Figure size 640x480 with 2 Axes>"
      ]
     },
     "metadata": {},
     "output_type": "display_data"
    }
   ],
   "source": [
    "# Filter the data for weekends\n",
    "Monday_data = merged_with_counts[merged_with_counts['pickup_weekday'] == 1]\n",
    "# Calculate trip counts for weekend trips\n",
    "Monday_trip_counts = Monday_data['Zone_PU'].value_counts()\n",
    "# Create a DataFrame with the weekend trip counts\n",
    "Monday_trip_counts_df = pd.DataFrame({'Zone_PU': Monday_trip_counts.index, 'Monday_trip_counts': Monday_trip_counts.values})\n",
    "\n",
    "# Merge with the GeoDataFrame\n",
    "merged_with_Monday_counts = merged_with_counts.merge(Monday_trip_counts_df, left_on='Zone_PU', right_on='Zone_PU', how='left')\n",
    "# Ensure it's a GeoDataFrame with valid geometry\n",
    "if not isinstance(merged_with_Monday_counts, gpd.GeoDataFrame):\n",
    "    merged_with_Monday_counts = gpd.GeoDataFrame(merged_with_Monday_counts, geometry='geometry')\n",
    "\n",
    "# Plot the map with trip counts for weekends\n",
    "plt.figure(figsize=(10, 8))\n",
    "merged_with_Monday_counts.plot(\n",
    "    column='Monday_trip_counts',  # Use weekend trip counts\n",
    "    cmap='OrRd',\n",
    "    legend=True,\n",
    "    legend_kwds={'label': \"Monday Trip Counts\", 'orientation': \"horizontal\"},\n",
    ")\n",
    "plt.title(\"Trip Counts on Mondays by Pickup Zone\")\n",
    "plt.show()\n"
   ]
  },
  {
   "cell_type": "code",
   "execution_count": 291,
   "id": "391e7d13-1cad-49f2-a337-8b48d38190f7",
   "metadata": {},
   "outputs": [],
   "source": [
    "# According to the EDA results, choose the relevant features to train the model\n",
    "X = df_merge_DO[['pickup_hour','pickup_weekday','trip_distance','tip_amount','extra']]\n",
    "y = df_merge_DO['total_amount']\n",
    "X_train, X_test, y_train, y_test = train_test_split(X, y, test_size=0.3, random_state=42)"
   ]
  },
  {
   "cell_type": "code",
   "execution_count": 250,
   "id": "1956fffb-dfa7-4839-a4a0-5577275c3105",
   "metadata": {},
   "outputs": [],
   "source": [
    "def display_scores(y_train, predictions):\n",
    "    mae = mean_absolute_error(y_train, predictions)\n",
    "    print(\"Mean Absolute Error (MAE):\", mae)\n",
    "    mse = mean_squared_error(y_train, predictions)\n",
    "    print(\"Mean Squared Error (MSE):\", mse)\n",
    "    rmse = mse**0.5\n",
    "    print(\"Root Mean Squared Error (RMSE):\", rmse)\n",
    "    r2 = r2_score(y_train, predictions)\n",
    "    print(\"R-squared:\", r2)"
   ]
  },
  {
   "cell_type": "markdown",
   "id": "e008682a-98ed-45ce-b5d2-ff18d1479c63",
   "metadata": {},
   "source": [
    "## Model 1: Linear Regression"
   ]
  },
  {
   "cell_type": "code",
   "execution_count": 292,
   "id": "44124cfe-e631-4155-a911-103d2917390a",
   "metadata": {},
   "outputs": [
    {
     "data": {
      "text/html": [
       "<style>#sk-container-id-14 {color: black;}#sk-container-id-14 pre{padding: 0;}#sk-container-id-14 div.sk-toggleable {background-color: white;}#sk-container-id-14 label.sk-toggleable__label {cursor: pointer;display: block;width: 100%;margin-bottom: 0;padding: 0.3em;box-sizing: border-box;text-align: center;}#sk-container-id-14 label.sk-toggleable__label-arrow:before {content: \"▸\";float: left;margin-right: 0.25em;color: #696969;}#sk-container-id-14 label.sk-toggleable__label-arrow:hover:before {color: black;}#sk-container-id-14 div.sk-estimator:hover label.sk-toggleable__label-arrow:before {color: black;}#sk-container-id-14 div.sk-toggleable__content {max-height: 0;max-width: 0;overflow: hidden;text-align: left;background-color: #f0f8ff;}#sk-container-id-14 div.sk-toggleable__content pre {margin: 0.2em;color: black;border-radius: 0.25em;background-color: #f0f8ff;}#sk-container-id-14 input.sk-toggleable__control:checked~div.sk-toggleable__content {max-height: 200px;max-width: 100%;overflow: auto;}#sk-container-id-14 input.sk-toggleable__control:checked~label.sk-toggleable__label-arrow:before {content: \"▾\";}#sk-container-id-14 div.sk-estimator input.sk-toggleable__control:checked~label.sk-toggleable__label {background-color: #d4ebff;}#sk-container-id-14 div.sk-label input.sk-toggleable__control:checked~label.sk-toggleable__label {background-color: #d4ebff;}#sk-container-id-14 input.sk-hidden--visually {border: 0;clip: rect(1px 1px 1px 1px);clip: rect(1px, 1px, 1px, 1px);height: 1px;margin: -1px;overflow: hidden;padding: 0;position: absolute;width: 1px;}#sk-container-id-14 div.sk-estimator {font-family: monospace;background-color: #f0f8ff;border: 1px dotted black;border-radius: 0.25em;box-sizing: border-box;margin-bottom: 0.5em;}#sk-container-id-14 div.sk-estimator:hover {background-color: #d4ebff;}#sk-container-id-14 div.sk-parallel-item::after {content: \"\";width: 100%;border-bottom: 1px solid gray;flex-grow: 1;}#sk-container-id-14 div.sk-label:hover label.sk-toggleable__label {background-color: #d4ebff;}#sk-container-id-14 div.sk-serial::before {content: \"\";position: absolute;border-left: 1px solid gray;box-sizing: border-box;top: 0;bottom: 0;left: 50%;z-index: 0;}#sk-container-id-14 div.sk-serial {display: flex;flex-direction: column;align-items: center;background-color: white;padding-right: 0.2em;padding-left: 0.2em;position: relative;}#sk-container-id-14 div.sk-item {position: relative;z-index: 1;}#sk-container-id-14 div.sk-parallel {display: flex;align-items: stretch;justify-content: center;background-color: white;position: relative;}#sk-container-id-14 div.sk-item::before, #sk-container-id-14 div.sk-parallel-item::before {content: \"\";position: absolute;border-left: 1px solid gray;box-sizing: border-box;top: 0;bottom: 0;left: 50%;z-index: -1;}#sk-container-id-14 div.sk-parallel-item {display: flex;flex-direction: column;z-index: 1;position: relative;background-color: white;}#sk-container-id-14 div.sk-parallel-item:first-child::after {align-self: flex-end;width: 50%;}#sk-container-id-14 div.sk-parallel-item:last-child::after {align-self: flex-start;width: 50%;}#sk-container-id-14 div.sk-parallel-item:only-child::after {width: 0;}#sk-container-id-14 div.sk-dashed-wrapped {border: 1px dashed gray;margin: 0 0.4em 0.5em 0.4em;box-sizing: border-box;padding-bottom: 0.4em;background-color: white;}#sk-container-id-14 div.sk-label label {font-family: monospace;font-weight: bold;display: inline-block;line-height: 1.2em;}#sk-container-id-14 div.sk-label-container {text-align: center;}#sk-container-id-14 div.sk-container {/* jupyter's `normalize.less` sets `[hidden] { display: none; }` but bootstrap.min.css set `[hidden] { display: none !important; }` so we also need the `!important` here to be able to override the default hidden behavior on the sphinx rendered scikit-learn.org. See: https://github.com/scikit-learn/scikit-learn/issues/21755 */display: inline-block !important;position: relative;}#sk-container-id-14 div.sk-text-repr-fallback {display: none;}</style><div id=\"sk-container-id-14\" class=\"sk-top-container\"><div class=\"sk-text-repr-fallback\"><pre>LinearRegression()</pre><b>In a Jupyter environment, please rerun this cell to show the HTML representation or trust the notebook. <br />On GitHub, the HTML representation is unable to render, please try loading this page with nbviewer.org.</b></div><div class=\"sk-container\" hidden><div class=\"sk-item\"><div class=\"sk-estimator sk-toggleable\"><input class=\"sk-toggleable__control sk-hidden--visually\" id=\"sk-estimator-id-14\" type=\"checkbox\" checked><label for=\"sk-estimator-id-14\" class=\"sk-toggleable__label sk-toggleable__label-arrow\">LinearRegression</label><div class=\"sk-toggleable__content\"><pre>LinearRegression()</pre></div></div></div></div></div>"
      ],
      "text/plain": [
       "LinearRegression()"
      ]
     },
     "execution_count": 292,
     "metadata": {},
     "output_type": "execute_result"
    }
   ],
   "source": [
    "lin = LinearRegression()\n",
    "lin.fit(X_train, y_train)"
   ]
  },
  {
   "cell_type": "code",
   "execution_count": 293,
   "id": "89e8e09b-6523-433b-b71a-550714b25b85",
   "metadata": {},
   "outputs": [
    {
     "name": "stdout",
     "output_type": "stream",
     "text": [
      "Mean Absolute Error (MAE): 3.423541696638859\n",
      "Mean Squared Error (MSE): 47.74557625432914\n",
      "Root Mean Squared Error (RMSE): 6.909817382125894\n",
      "R-squared: 0.8837657137355027\n"
     ]
    }
   ],
   "source": [
    "predictions = lin.predict(X_train)\n",
    "display_scores(y_train, predictions)"
   ]
  },
  {
   "cell_type": "code",
   "execution_count": 356,
   "id": "1b3457ca-c169-48b1-8f3a-e008b708d56b",
   "metadata": {},
   "outputs": [
    {
     "name": "stdout",
     "output_type": "stream",
     "text": [
      "Cross-Validation Scores (MAE): [3.35814769 3.55109772 3.49284897 3.40825737 3.31049779]\n",
      "Mean MAE across folds: 3.4241699047061593\n"
     ]
    }
   ],
   "source": [
    "mae_scorer = make_scorer(mean_absolute_error)\n",
    "scores = cross_val_score(lin, X_train, y_train, cv=5, scoring=mae_scorer)\n",
    "\n",
    "print(\"Cross-Validation Scores (MAE):\", scores)\n",
    "print(\"Mean MAE across folds:\", np.mean(scores))"
   ]
  },
  {
   "cell_type": "markdown",
   "id": "2c1b0a8c-93ff-4aa5-8cf4-5e34287c8fe2",
   "metadata": {},
   "source": [
    "|Model|RMSE|MAE|RMSE|R-squared|Cross-Validation Scores|\n",
    "| --- | --- | --- |---|---|---|\n",
    "|Linear Regression| 3.42 | 47.7 | 6.9 | 0.88|3.42|"
   ]
  },
  {
   "cell_type": "markdown",
   "id": "326e5119-6723-4b8f-83f8-521ff8b83806",
   "metadata": {},
   "source": [
    "## Model 2: K-nearest Neighbour"
   ]
  },
  {
   "cell_type": "code",
   "execution_count": 294,
   "id": "5e5e436e-4ba3-435b-9752-afc48ec3b441",
   "metadata": {},
   "outputs": [
    {
     "data": {
      "text/html": [
       "<style>#sk-container-id-15 {color: black;}#sk-container-id-15 pre{padding: 0;}#sk-container-id-15 div.sk-toggleable {background-color: white;}#sk-container-id-15 label.sk-toggleable__label {cursor: pointer;display: block;width: 100%;margin-bottom: 0;padding: 0.3em;box-sizing: border-box;text-align: center;}#sk-container-id-15 label.sk-toggleable__label-arrow:before {content: \"▸\";float: left;margin-right: 0.25em;color: #696969;}#sk-container-id-15 label.sk-toggleable__label-arrow:hover:before {color: black;}#sk-container-id-15 div.sk-estimator:hover label.sk-toggleable__label-arrow:before {color: black;}#sk-container-id-15 div.sk-toggleable__content {max-height: 0;max-width: 0;overflow: hidden;text-align: left;background-color: #f0f8ff;}#sk-container-id-15 div.sk-toggleable__content pre {margin: 0.2em;color: black;border-radius: 0.25em;background-color: #f0f8ff;}#sk-container-id-15 input.sk-toggleable__control:checked~div.sk-toggleable__content {max-height: 200px;max-width: 100%;overflow: auto;}#sk-container-id-15 input.sk-toggleable__control:checked~label.sk-toggleable__label-arrow:before {content: \"▾\";}#sk-container-id-15 div.sk-estimator input.sk-toggleable__control:checked~label.sk-toggleable__label {background-color: #d4ebff;}#sk-container-id-15 div.sk-label input.sk-toggleable__control:checked~label.sk-toggleable__label {background-color: #d4ebff;}#sk-container-id-15 input.sk-hidden--visually {border: 0;clip: rect(1px 1px 1px 1px);clip: rect(1px, 1px, 1px, 1px);height: 1px;margin: -1px;overflow: hidden;padding: 0;position: absolute;width: 1px;}#sk-container-id-15 div.sk-estimator {font-family: monospace;background-color: #f0f8ff;border: 1px dotted black;border-radius: 0.25em;box-sizing: border-box;margin-bottom: 0.5em;}#sk-container-id-15 div.sk-estimator:hover {background-color: #d4ebff;}#sk-container-id-15 div.sk-parallel-item::after {content: \"\";width: 100%;border-bottom: 1px solid gray;flex-grow: 1;}#sk-container-id-15 div.sk-label:hover label.sk-toggleable__label {background-color: #d4ebff;}#sk-container-id-15 div.sk-serial::before {content: \"\";position: absolute;border-left: 1px solid gray;box-sizing: border-box;top: 0;bottom: 0;left: 50%;z-index: 0;}#sk-container-id-15 div.sk-serial {display: flex;flex-direction: column;align-items: center;background-color: white;padding-right: 0.2em;padding-left: 0.2em;position: relative;}#sk-container-id-15 div.sk-item {position: relative;z-index: 1;}#sk-container-id-15 div.sk-parallel {display: flex;align-items: stretch;justify-content: center;background-color: white;position: relative;}#sk-container-id-15 div.sk-item::before, #sk-container-id-15 div.sk-parallel-item::before {content: \"\";position: absolute;border-left: 1px solid gray;box-sizing: border-box;top: 0;bottom: 0;left: 50%;z-index: -1;}#sk-container-id-15 div.sk-parallel-item {display: flex;flex-direction: column;z-index: 1;position: relative;background-color: white;}#sk-container-id-15 div.sk-parallel-item:first-child::after {align-self: flex-end;width: 50%;}#sk-container-id-15 div.sk-parallel-item:last-child::after {align-self: flex-start;width: 50%;}#sk-container-id-15 div.sk-parallel-item:only-child::after {width: 0;}#sk-container-id-15 div.sk-dashed-wrapped {border: 1px dashed gray;margin: 0 0.4em 0.5em 0.4em;box-sizing: border-box;padding-bottom: 0.4em;background-color: white;}#sk-container-id-15 div.sk-label label {font-family: monospace;font-weight: bold;display: inline-block;line-height: 1.2em;}#sk-container-id-15 div.sk-label-container {text-align: center;}#sk-container-id-15 div.sk-container {/* jupyter's `normalize.less` sets `[hidden] { display: none; }` but bootstrap.min.css set `[hidden] { display: none !important; }` so we also need the `!important` here to be able to override the default hidden behavior on the sphinx rendered scikit-learn.org. See: https://github.com/scikit-learn/scikit-learn/issues/21755 */display: inline-block !important;position: relative;}#sk-container-id-15 div.sk-text-repr-fallback {display: none;}</style><div id=\"sk-container-id-15\" class=\"sk-top-container\"><div class=\"sk-text-repr-fallback\"><pre>KNeighborsRegressor(n_neighbors=10)</pre><b>In a Jupyter environment, please rerun this cell to show the HTML representation or trust the notebook. <br />On GitHub, the HTML representation is unable to render, please try loading this page with nbviewer.org.</b></div><div class=\"sk-container\" hidden><div class=\"sk-item\"><div class=\"sk-estimator sk-toggleable\"><input class=\"sk-toggleable__control sk-hidden--visually\" id=\"sk-estimator-id-15\" type=\"checkbox\" checked><label for=\"sk-estimator-id-15\" class=\"sk-toggleable__label sk-toggleable__label-arrow\">KNeighborsRegressor</label><div class=\"sk-toggleable__content\"><pre>KNeighborsRegressor(n_neighbors=10)</pre></div></div></div></div></div>"
      ],
      "text/plain": [
       "KNeighborsRegressor(n_neighbors=10)"
      ]
     },
     "execution_count": 294,
     "metadata": {},
     "output_type": "execute_result"
    }
   ],
   "source": [
    "neigh = KNeighborsRegressor(n_neighbors=10)\n",
    "neigh.fit(X_train, y_train)"
   ]
  },
  {
   "cell_type": "code",
   "execution_count": 295,
   "id": "b0e010f1-8631-4716-a06f-ca80351a3e83",
   "metadata": {},
   "outputs": [
    {
     "name": "stdout",
     "output_type": "stream",
     "text": [
      "Mean Absolute Error (MAE): 2.45767841624762\n",
      "Mean Squared Error (MSE): 28.886617772640726\n",
      "Root Mean Squared Error (RMSE): 5.374627221737404\n",
      "R-squared: 0.9296769321305699\n"
     ]
    }
   ],
   "source": [
    "predictions = neigh.predict(X_train)\n",
    "display_scores(y_train, predictions)"
   ]
  },
  {
   "cell_type": "code",
   "execution_count": 355,
   "id": "193c3222-765c-4e7d-96a0-8129edd77c2c",
   "metadata": {},
   "outputs": [
    {
     "name": "stdout",
     "output_type": "stream",
     "text": [
      "Cross-Validation Scores (MAE): [2.70617305 2.92668489 2.86551355 2.712427   2.63887964]\n",
      "Mean MAE across folds: 2.7699356263920243\n"
     ]
    }
   ],
   "source": [
    "mae_scorer = make_scorer(mean_absolute_error)\n",
    "scores = cross_val_score(neigh, X_train, y_train, cv=5, scoring=mae_scorer)\n",
    "\n",
    "print(\"Cross-Validation Scores (MAE):\", scores)\n",
    "print(\"Mean MAE across folds:\", np.mean(scores))"
   ]
  },
  {
   "cell_type": "markdown",
   "id": "9c6e1f20-6356-4de4-9af6-a5cb115effdd",
   "metadata": {},
   "source": [
    "|Model|RMSE|MAE|RMSE|R-squared|Cross-Validation Score|\n",
    "| --- | --- | --- |---|---|---|\n",
    "|Linear Regression| 3.42 | 47.7 | 6.9 | 0.88|3.42\n",
    "|K-nearest Neighbour|2.46|28.8|5.37|0.92|2.77"
   ]
  },
  {
   "cell_type": "markdown",
   "id": "3247f6e0-471a-4518-9a62-f74e548d3388",
   "metadata": {},
   "source": [
    "## Model 3: Random Forest"
   ]
  },
  {
   "cell_type": "code",
   "execution_count": 296,
   "id": "1037b033-64a1-4cd0-bd50-180e50cbec5a",
   "metadata": {},
   "outputs": [
    {
     "data": {
      "text/html": [
       "<style>#sk-container-id-16 {color: black;}#sk-container-id-16 pre{padding: 0;}#sk-container-id-16 div.sk-toggleable {background-color: white;}#sk-container-id-16 label.sk-toggleable__label {cursor: pointer;display: block;width: 100%;margin-bottom: 0;padding: 0.3em;box-sizing: border-box;text-align: center;}#sk-container-id-16 label.sk-toggleable__label-arrow:before {content: \"▸\";float: left;margin-right: 0.25em;color: #696969;}#sk-container-id-16 label.sk-toggleable__label-arrow:hover:before {color: black;}#sk-container-id-16 div.sk-estimator:hover label.sk-toggleable__label-arrow:before {color: black;}#sk-container-id-16 div.sk-toggleable__content {max-height: 0;max-width: 0;overflow: hidden;text-align: left;background-color: #f0f8ff;}#sk-container-id-16 div.sk-toggleable__content pre {margin: 0.2em;color: black;border-radius: 0.25em;background-color: #f0f8ff;}#sk-container-id-16 input.sk-toggleable__control:checked~div.sk-toggleable__content {max-height: 200px;max-width: 100%;overflow: auto;}#sk-container-id-16 input.sk-toggleable__control:checked~label.sk-toggleable__label-arrow:before {content: \"▾\";}#sk-container-id-16 div.sk-estimator input.sk-toggleable__control:checked~label.sk-toggleable__label {background-color: #d4ebff;}#sk-container-id-16 div.sk-label input.sk-toggleable__control:checked~label.sk-toggleable__label {background-color: #d4ebff;}#sk-container-id-16 input.sk-hidden--visually {border: 0;clip: rect(1px 1px 1px 1px);clip: rect(1px, 1px, 1px, 1px);height: 1px;margin: -1px;overflow: hidden;padding: 0;position: absolute;width: 1px;}#sk-container-id-16 div.sk-estimator {font-family: monospace;background-color: #f0f8ff;border: 1px dotted black;border-radius: 0.25em;box-sizing: border-box;margin-bottom: 0.5em;}#sk-container-id-16 div.sk-estimator:hover {background-color: #d4ebff;}#sk-container-id-16 div.sk-parallel-item::after {content: \"\";width: 100%;border-bottom: 1px solid gray;flex-grow: 1;}#sk-container-id-16 div.sk-label:hover label.sk-toggleable__label {background-color: #d4ebff;}#sk-container-id-16 div.sk-serial::before {content: \"\";position: absolute;border-left: 1px solid gray;box-sizing: border-box;top: 0;bottom: 0;left: 50%;z-index: 0;}#sk-container-id-16 div.sk-serial {display: flex;flex-direction: column;align-items: center;background-color: white;padding-right: 0.2em;padding-left: 0.2em;position: relative;}#sk-container-id-16 div.sk-item {position: relative;z-index: 1;}#sk-container-id-16 div.sk-parallel {display: flex;align-items: stretch;justify-content: center;background-color: white;position: relative;}#sk-container-id-16 div.sk-item::before, #sk-container-id-16 div.sk-parallel-item::before {content: \"\";position: absolute;border-left: 1px solid gray;box-sizing: border-box;top: 0;bottom: 0;left: 50%;z-index: -1;}#sk-container-id-16 div.sk-parallel-item {display: flex;flex-direction: column;z-index: 1;position: relative;background-color: white;}#sk-container-id-16 div.sk-parallel-item:first-child::after {align-self: flex-end;width: 50%;}#sk-container-id-16 div.sk-parallel-item:last-child::after {align-self: flex-start;width: 50%;}#sk-container-id-16 div.sk-parallel-item:only-child::after {width: 0;}#sk-container-id-16 div.sk-dashed-wrapped {border: 1px dashed gray;margin: 0 0.4em 0.5em 0.4em;box-sizing: border-box;padding-bottom: 0.4em;background-color: white;}#sk-container-id-16 div.sk-label label {font-family: monospace;font-weight: bold;display: inline-block;line-height: 1.2em;}#sk-container-id-16 div.sk-label-container {text-align: center;}#sk-container-id-16 div.sk-container {/* jupyter's `normalize.less` sets `[hidden] { display: none; }` but bootstrap.min.css set `[hidden] { display: none !important; }` so we also need the `!important` here to be able to override the default hidden behavior on the sphinx rendered scikit-learn.org. See: https://github.com/scikit-learn/scikit-learn/issues/21755 */display: inline-block !important;position: relative;}#sk-container-id-16 div.sk-text-repr-fallback {display: none;}</style><div id=\"sk-container-id-16\" class=\"sk-top-container\"><div class=\"sk-text-repr-fallback\"><pre>RandomForestRegressor(n_estimators=1000)</pre><b>In a Jupyter environment, please rerun this cell to show the HTML representation or trust the notebook. <br />On GitHub, the HTML representation is unable to render, please try loading this page with nbviewer.org.</b></div><div class=\"sk-container\" hidden><div class=\"sk-item\"><div class=\"sk-estimator sk-toggleable\"><input class=\"sk-toggleable__control sk-hidden--visually\" id=\"sk-estimator-id-16\" type=\"checkbox\" checked><label for=\"sk-estimator-id-16\" class=\"sk-toggleable__label sk-toggleable__label-arrow\">RandomForestRegressor</label><div class=\"sk-toggleable__content\"><pre>RandomForestRegressor(n_estimators=1000)</pre></div></div></div></div></div>"
      ],
      "text/plain": [
       "RandomForestRegressor(n_estimators=1000)"
      ]
     },
     "execution_count": 296,
     "metadata": {},
     "output_type": "execute_result"
    }
   ],
   "source": [
    "rf = RandomForestRegressor(n_estimators=1000)\n",
    "rf.fit(X_train, y_train)"
   ]
  },
  {
   "cell_type": "code",
   "execution_count": 255,
   "id": "ad4278d0-58d2-4048-8532-0623886b8d95",
   "metadata": {},
   "outputs": [
    {
     "name": "stdout",
     "output_type": "stream",
     "text": [
      "Mean Absolute Error (MAE): 1.0638388421517828\n",
      "Mean Squared Error (MSE): 11.561325161663461\n",
      "Root Mean Squared Error (RMSE): 3.4001948711306915\n",
      "R-squared: 0.9749199225897078\n"
     ]
    }
   ],
   "source": [
    "predictions = rf.predict(X_train)\n",
    "display_scores(y_train, predictions)"
   ]
  },
  {
   "cell_type": "code",
   "execution_count": 357,
   "id": "8646628a-fe89-4e59-a30f-ad337b99e658",
   "metadata": {},
   "outputs": [
    {
     "name": "stdout",
     "output_type": "stream",
     "text": [
      "Cross-Validation Scores (MAE): [2.22170327 2.4920532  2.3724032  2.23241786 2.16380408]\n",
      "Mean MAE across folds: 2.296476322965659\n"
     ]
    }
   ],
   "source": [
    "mae_scorer = make_scorer(mean_absolute_error)\n",
    "scores = cross_val_score(rf, X_train, y_train, cv=5, scoring=mae_scorer)\n",
    "\n",
    "print(\"Cross-Validation Scores (MAE):\", scores)\n",
    "print(\"Mean MAE across folds:\", np.mean(scores))"
   ]
  },
  {
   "cell_type": "markdown",
   "id": "d4042233-670e-46a6-b751-a3619d539c34",
   "metadata": {},
   "source": [
    "|Model|RMSE|MAE|RMSE|R-squared|Cross-Validation Score|\n",
    "| --- | --- | --- |---|---|---|\n",
    "|Linear Regression| 3.42 | 47.7 | 6.9 | 0.88|3.42\n",
    "|K-nearest Neighbour|2.46|28.8|5.37|0.92|2.77\n",
    "|Random Forest|1.06|11.56|3.4|0.97|2.35"
   ]
  },
  {
   "cell_type": "markdown",
   "id": "13d3982b-fa4b-49fa-9df2-f07d82ab5c60",
   "metadata": {},
   "source": [
    "## Model 4: Grid Search on Random Forest"
   ]
  },
  {
   "cell_type": "code",
   "execution_count": 340,
   "id": "23e9c453-cc5e-4795-b03a-42f5a24f14da",
   "metadata": {},
   "outputs": [
    {
     "name": "stdout",
     "output_type": "stream",
     "text": [
      "Best Parameters: {'max_depth': 20, 'max_features': 'log2', 'n_estimators': 1000}\n"
     ]
    }
   ],
   "source": [
    "param_grid = {\n",
    "    'n_estimators': [500, 1000],  # tree number\n",
    "    'max_features': ['log2', 'sqrt'],  # features for each tree\n",
    "    'max_depth': [20, None],  # max depth for each tree\n",
    "}\n",
    "\n",
    "# Grid Search for best parameters\n",
    "grid_search = GridSearchCV(rf, param_grid, cv=5, scoring='neg_mean_squared_error', n_jobs=-1)\n",
    "\n",
    "grid_search.fit(X_train, y_train)\n",
    "\n",
    "print(\"Best Parameters:\", grid_search.best_params_)"
   ]
  },
  {
   "cell_type": "code",
   "execution_count": 341,
   "id": "91e92b8b-c3ec-48b1-aa4d-b2d8a8b3bfb5",
   "metadata": {},
   "outputs": [
    {
     "name": "stdout",
     "output_type": "stream",
     "text": [
      "Mean Absolute Error (MAE): 1.0370728180331168\n",
      "Mean Squared Error (MSE): 7.12687442157622\n",
      "Root Mean Squared Error (RMSE): 2.669620651249203\n",
      "R-squared: 0.9826499703914767\n"
     ]
    }
   ],
   "source": [
    "predictions = grid_search.predict(X_train)\n",
    "display_scores(y_train, predictions)"
   ]
  },
  {
   "cell_type": "markdown",
   "id": "53b24654-5c15-45d5-830b-76bc1bda4b19",
   "metadata": {},
   "source": [
    "|Model|RMSE|MAE|RMSE|R-squared|Cross-Validation Score|\n",
    "| --- | --- | --- |---|---|---|\n",
    "|Linear Regression| 3.42 | 47.7 | 6.9 | 0.88|3.62\n",
    "|K-nearest Neighbour|2.46|28.8|5.37|0.92|2.72\n",
    "|Random Forest|1.06|11.56|3.4|0.97|2.35\n",
    "|Random Forest with Grid Search|1.03|7.12|2.66|0.98|"
   ]
  },
  {
   "cell_type": "markdown",
   "id": "9ecb11c7-ac20-40ce-ac74-f6a81f42fc43",
   "metadata": {},
   "source": [
    "## Model 5: XGBoost"
   ]
  },
  {
   "cell_type": "code",
   "execution_count": 300,
   "id": "cbcedcdc-34e4-43b2-b5ec-694feff9c552",
   "metadata": {},
   "outputs": [
    {
     "data": {
      "text/html": [
       "<style>#sk-container-id-18 {color: black;}#sk-container-id-18 pre{padding: 0;}#sk-container-id-18 div.sk-toggleable {background-color: white;}#sk-container-id-18 label.sk-toggleable__label {cursor: pointer;display: block;width: 100%;margin-bottom: 0;padding: 0.3em;box-sizing: border-box;text-align: center;}#sk-container-id-18 label.sk-toggleable__label-arrow:before {content: \"▸\";float: left;margin-right: 0.25em;color: #696969;}#sk-container-id-18 label.sk-toggleable__label-arrow:hover:before {color: black;}#sk-container-id-18 div.sk-estimator:hover label.sk-toggleable__label-arrow:before {color: black;}#sk-container-id-18 div.sk-toggleable__content {max-height: 0;max-width: 0;overflow: hidden;text-align: left;background-color: #f0f8ff;}#sk-container-id-18 div.sk-toggleable__content pre {margin: 0.2em;color: black;border-radius: 0.25em;background-color: #f0f8ff;}#sk-container-id-18 input.sk-toggleable__control:checked~div.sk-toggleable__content {max-height: 200px;max-width: 100%;overflow: auto;}#sk-container-id-18 input.sk-toggleable__control:checked~label.sk-toggleable__label-arrow:before {content: \"▾\";}#sk-container-id-18 div.sk-estimator input.sk-toggleable__control:checked~label.sk-toggleable__label {background-color: #d4ebff;}#sk-container-id-18 div.sk-label input.sk-toggleable__control:checked~label.sk-toggleable__label {background-color: #d4ebff;}#sk-container-id-18 input.sk-hidden--visually {border: 0;clip: rect(1px 1px 1px 1px);clip: rect(1px, 1px, 1px, 1px);height: 1px;margin: -1px;overflow: hidden;padding: 0;position: absolute;width: 1px;}#sk-container-id-18 div.sk-estimator {font-family: monospace;background-color: #f0f8ff;border: 1px dotted black;border-radius: 0.25em;box-sizing: border-box;margin-bottom: 0.5em;}#sk-container-id-18 div.sk-estimator:hover {background-color: #d4ebff;}#sk-container-id-18 div.sk-parallel-item::after {content: \"\";width: 100%;border-bottom: 1px solid gray;flex-grow: 1;}#sk-container-id-18 div.sk-label:hover label.sk-toggleable__label {background-color: #d4ebff;}#sk-container-id-18 div.sk-serial::before {content: \"\";position: absolute;border-left: 1px solid gray;box-sizing: border-box;top: 0;bottom: 0;left: 50%;z-index: 0;}#sk-container-id-18 div.sk-serial {display: flex;flex-direction: column;align-items: center;background-color: white;padding-right: 0.2em;padding-left: 0.2em;position: relative;}#sk-container-id-18 div.sk-item {position: relative;z-index: 1;}#sk-container-id-18 div.sk-parallel {display: flex;align-items: stretch;justify-content: center;background-color: white;position: relative;}#sk-container-id-18 div.sk-item::before, #sk-container-id-18 div.sk-parallel-item::before {content: \"\";position: absolute;border-left: 1px solid gray;box-sizing: border-box;top: 0;bottom: 0;left: 50%;z-index: -1;}#sk-container-id-18 div.sk-parallel-item {display: flex;flex-direction: column;z-index: 1;position: relative;background-color: white;}#sk-container-id-18 div.sk-parallel-item:first-child::after {align-self: flex-end;width: 50%;}#sk-container-id-18 div.sk-parallel-item:last-child::after {align-self: flex-start;width: 50%;}#sk-container-id-18 div.sk-parallel-item:only-child::after {width: 0;}#sk-container-id-18 div.sk-dashed-wrapped {border: 1px dashed gray;margin: 0 0.4em 0.5em 0.4em;box-sizing: border-box;padding-bottom: 0.4em;background-color: white;}#sk-container-id-18 div.sk-label label {font-family: monospace;font-weight: bold;display: inline-block;line-height: 1.2em;}#sk-container-id-18 div.sk-label-container {text-align: center;}#sk-container-id-18 div.sk-container {/* jupyter's `normalize.less` sets `[hidden] { display: none; }` but bootstrap.min.css set `[hidden] { display: none !important; }` so we also need the `!important` here to be able to override the default hidden behavior on the sphinx rendered scikit-learn.org. See: https://github.com/scikit-learn/scikit-learn/issues/21755 */display: inline-block !important;position: relative;}#sk-container-id-18 div.sk-text-repr-fallback {display: none;}</style><div id=\"sk-container-id-18\" class=\"sk-top-container\"><div class=\"sk-text-repr-fallback\"><pre>XGBRegressor(alpha=10, base_score=None, booster=None, callbacks=None,\n",
       "             colsample_bylevel=None, colsample_bynode=None,\n",
       "             colsample_bytree=0.3, device=None, early_stopping_rounds=None,\n",
       "             enable_categorical=False, eval_metric=None, feature_types=None,\n",
       "             gamma=None, grow_policy=None, importance_type=None,\n",
       "             interaction_constraints=None, learning_rate=0.1, max_bin=None,\n",
       "             max_cat_threshold=None, max_cat_to_onehot=None,\n",
       "             max_delta_step=None, max_depth=500, max_leaves=None,\n",
       "             min_child_weight=None, missing=nan, monotone_constraints=None,\n",
       "             multi_strategy=None, n_estimators=1000, n_jobs=None,\n",
       "             num_parallel_tree=None, ...)</pre><b>In a Jupyter environment, please rerun this cell to show the HTML representation or trust the notebook. <br />On GitHub, the HTML representation is unable to render, please try loading this page with nbviewer.org.</b></div><div class=\"sk-container\" hidden><div class=\"sk-item\"><div class=\"sk-estimator sk-toggleable\"><input class=\"sk-toggleable__control sk-hidden--visually\" id=\"sk-estimator-id-18\" type=\"checkbox\" checked><label for=\"sk-estimator-id-18\" class=\"sk-toggleable__label sk-toggleable__label-arrow\">XGBRegressor</label><div class=\"sk-toggleable__content\"><pre>XGBRegressor(alpha=10, base_score=None, booster=None, callbacks=None,\n",
       "             colsample_bylevel=None, colsample_bynode=None,\n",
       "             colsample_bytree=0.3, device=None, early_stopping_rounds=None,\n",
       "             enable_categorical=False, eval_metric=None, feature_types=None,\n",
       "             gamma=None, grow_policy=None, importance_type=None,\n",
       "             interaction_constraints=None, learning_rate=0.1, max_bin=None,\n",
       "             max_cat_threshold=None, max_cat_to_onehot=None,\n",
       "             max_delta_step=None, max_depth=500, max_leaves=None,\n",
       "             min_child_weight=None, missing=nan, monotone_constraints=None,\n",
       "             multi_strategy=None, n_estimators=1000, n_jobs=None,\n",
       "             num_parallel_tree=None, ...)</pre></div></div></div></div></div>"
      ],
      "text/plain": [
       "XGBRegressor(alpha=10, base_score=None, booster=None, callbacks=None,\n",
       "             colsample_bylevel=None, colsample_bynode=None,\n",
       "             colsample_bytree=0.3, device=None, early_stopping_rounds=None,\n",
       "             enable_categorical=False, eval_metric=None, feature_types=None,\n",
       "             gamma=None, grow_policy=None, importance_type=None,\n",
       "             interaction_constraints=None, learning_rate=0.1, max_bin=None,\n",
       "             max_cat_threshold=None, max_cat_to_onehot=None,\n",
       "             max_delta_step=None, max_depth=500, max_leaves=None,\n",
       "             min_child_weight=None, missing=nan, monotone_constraints=None,\n",
       "             multi_strategy=None, n_estimators=1000, n_jobs=None,\n",
       "             num_parallel_tree=None, ...)"
      ]
     },
     "execution_count": 300,
     "metadata": {},
     "output_type": "execute_result"
    }
   ],
   "source": [
    "xgb_reg = xgb.XGBRegressor(objective ='reg:squarederror', colsample_bytree = 0.3, learning_rate = 0.1,\n",
    "                max_depth = 500, alpha = 10, n_estimators = 1000)\n",
    "xgb_reg.fit(X_train, y_train)\n"
   ]
  },
  {
   "cell_type": "code",
   "execution_count": 301,
   "id": "cb7f6387-2024-48ab-b69f-0b6dd7778452",
   "metadata": {},
   "outputs": [
    {
     "name": "stdout",
     "output_type": "stream",
     "text": [
      "Mean Absolute Error (MAE): 2.7646860712903707\n",
      "Mean Squared Error (MSE): 33.15724507926085\n",
      "Root Mean Squared Error (RMSE): 5.758232808706231\n",
      "R-squared: 0.9192802973880653\n"
     ]
    }
   ],
   "source": [
    "predictions = xgb_reg.predict(X_train)\n",
    "display_scores(y_train, predictions)"
   ]
  },
  {
   "cell_type": "code",
   "execution_count": 358,
   "id": "7a5fd4b4-c488-421e-82d9-29a179d63068",
   "metadata": {},
   "outputs": [
    {
     "name": "stdout",
     "output_type": "stream",
     "text": [
      "Cross-Validation Scores (MAE): [2.75596524 3.01266135 2.89655429 2.77566675 2.72232303]\n",
      "Mean MAE across folds: 2.8326341317335393\n"
     ]
    }
   ],
   "source": [
    "mae_scorer = make_scorer(mean_absolute_error)\n",
    "scores = cross_val_score(xgb_reg, X_train, y_train, cv=5, scoring=mae_scorer)\n",
    "\n",
    "print(\"Cross-Validation Scores (MAE):\", scores)\n",
    "print(\"Mean MAE across folds:\", np.mean(scores))"
   ]
  },
  {
   "cell_type": "markdown",
   "id": "d999d10c-b211-473f-b5c1-30aa6b9bc3bd",
   "metadata": {},
   "source": [
    "|Model|RMSE|MAE|RMSE|R-squared|Cross-Validation Score|\n",
    "| --- | --- | --- |---|---|---|\n",
    "|Linear Regression| 3.42 | 47.7 | 6.9 | 0.88|3.62\n",
    "|K-nearest Neighbour|2.46|28.8|5.37|0.92|2.72\n",
    "|Random Forest|1.06|11.56|3.4|0.97|2.35\n",
    "|Random Forest with Grid Search|1.03|7.12|2.66|0.98|\n",
    "|XGBoost|2.76|33.15|5.75|0.91|2.83|"
   ]
  },
  {
   "cell_type": "markdown",
   "id": "3ef00269-d1f7-43cc-bed1-e7b0149d1f4f",
   "metadata": {},
   "source": [
    "## Model 6: Random Search on XGBoost"
   ]
  },
  {
   "cell_type": "code",
   "execution_count": 361,
   "id": "ebd3be6e-3413-434b-bb0f-173810cc0a79",
   "metadata": {},
   "outputs": [
    {
     "name": "stdout",
     "output_type": "stream",
     "text": [
      "Best Parameters: {'subsample': 0.8, 'n_estimators': 1000, 'max_depth': 10, 'learning_rate': 0.2}\n"
     ]
    }
   ],
   "source": [
    "param_dist = {\n",
    "    'n_estimators': [500, 800, 1000],\n",
    "    'max_depth': [10, 20],  \n",
    "    'learning_rate': [0.01, 0.1, 0.2],  \n",
    "    'subsample': [0.8, 0.9, 1.0], \n",
    "}\n",
    "# Use Random search to find the best parameter here\n",
    "random_search = RandomizedSearchCV(xgb_reg, param_dist, n_iter=10, cv=5, scoring='neg_mean_squared_error', n_jobs=-1)\n",
    "\n",
    "random_search.fit(X_train, y_train)\n",
    "\n",
    "print(\"Best Parameters:\", random_search.best_params_)\n"
   ]
  },
  {
   "cell_type": "code",
   "execution_count": 362,
   "id": "7b3ced65-3f47-4bc6-bc3c-ee4ebb1aeddc",
   "metadata": {},
   "outputs": [
    {
     "name": "stdout",
     "output_type": "stream",
     "text": [
      "Mean Absolute Error (MAE): 2.759043610534217\n",
      "Mean Squared Error (MSE): 33.12971682993695\n",
      "Root Mean Squared Error (RMSE): 5.755841974024039\n",
      "R-squared: 0.9193473135739257\n"
     ]
    }
   ],
   "source": [
    "predictions = random_search.predict(X_train)\n",
    "display_scores(y_train, predictions)"
   ]
  },
  {
   "cell_type": "markdown",
   "id": "dbe259d1-34d3-4a9e-acf8-43f5a8bcda46",
   "metadata": {},
   "source": [
    "|Model|RMSE|MAE|RMSE|R-squared|Cross-Validation Score|\n",
    "| --- | --- | --- |---|---|---|\n",
    "|Linear Regression| 3.42 | 47.7 | 6.9 | 0.88|3.62\n",
    "|K-nearest Neighbour|2.46|28.8|5.37|0.92|2.72\n",
    "|Random Forest|1.06|11.56|3.4|0.97|2.35\n",
    "|Random Forest with Grid Search|1.03|7.12|2.66|0.98|\n",
    "|XGBoost|2.76|33.15|5.75|0.91|2.83\n",
    "|XGBoost with Random Search| 2.76|33.1|5.75|0.91"
   ]
  },
  {
   "cell_type": "markdown",
   "id": "425d2103-8bb7-4a8b-9633-8e902718fda7",
   "metadata": {},
   "source": [
    "## Model 7: Neural Network"
   ]
  },
  {
   "cell_type": "code",
   "execution_count": 321,
   "id": "9181b46c-3d28-43db-a83b-bedb6910fb9e",
   "metadata": {},
   "outputs": [
    {
     "name": "stdout",
     "output_type": "stream",
     "text": [
      "Epoch 1/100\n",
      "129/129 [==============================] - 1s 4ms/step - loss: 107.2737 - mae: 5.4127 - val_loss: 38.7272 - val_mae: 3.0813\n",
      "Epoch 2/100\n",
      "129/129 [==============================] - 0s 3ms/step - loss: 43.6156 - mae: 3.1659 - val_loss: 39.2243 - val_mae: 3.2027\n",
      "Epoch 3/100\n",
      "129/129 [==============================] - 0s 3ms/step - loss: 42.2190 - mae: 3.1511 - val_loss: 35.8401 - val_mae: 3.0955\n",
      "Epoch 4/100\n",
      "129/129 [==============================] - 0s 3ms/step - loss: 39.8009 - mae: 3.0175 - val_loss: 37.5220 - val_mae: 3.3193\n",
      "Epoch 5/100\n",
      "129/129 [==============================] - 0s 3ms/step - loss: 39.1633 - mae: 3.0123 - val_loss: 35.9709 - val_mae: 3.3994\n",
      "Epoch 6/100\n",
      "129/129 [==============================] - 0s 3ms/step - loss: 38.8450 - mae: 3.0561 - val_loss: 31.5533 - val_mae: 2.6793\n",
      "Epoch 7/100\n",
      "129/129 [==============================] - 0s 3ms/step - loss: 37.8660 - mae: 2.9983 - val_loss: 30.8473 - val_mae: 2.8454\n",
      "Epoch 8/100\n",
      "129/129 [==============================] - 0s 3ms/step - loss: 37.0249 - mae: 2.9855 - val_loss: 32.0282 - val_mae: 2.8909\n",
      "Epoch 9/100\n",
      "129/129 [==============================] - 0s 3ms/step - loss: 37.5940 - mae: 3.0320 - val_loss: 32.5505 - val_mae: 2.8407\n",
      "Epoch 10/100\n",
      "129/129 [==============================] - 0s 3ms/step - loss: 36.7293 - mae: 2.9550 - val_loss: 30.5257 - val_mae: 2.7709\n",
      "Epoch 11/100\n",
      "129/129 [==============================] - 0s 3ms/step - loss: 35.9588 - mae: 2.8701 - val_loss: 29.8674 - val_mae: 2.7790\n",
      "Epoch 12/100\n",
      "129/129 [==============================] - 0s 3ms/step - loss: 36.0118 - mae: 2.8956 - val_loss: 28.4921 - val_mae: 2.5875\n",
      "Epoch 13/100\n",
      "129/129 [==============================] - 0s 3ms/step - loss: 35.6690 - mae: 2.8688 - val_loss: 29.9201 - val_mae: 2.7573\n",
      "Epoch 14/100\n",
      "129/129 [==============================] - 0s 3ms/step - loss: 35.2258 - mae: 2.8745 - val_loss: 30.3975 - val_mae: 2.7353\n",
      "Epoch 15/100\n",
      "129/129 [==============================] - 0s 3ms/step - loss: 34.9379 - mae: 2.8412 - val_loss: 29.2371 - val_mae: 2.6624\n",
      "Epoch 16/100\n",
      "129/129 [==============================] - 0s 3ms/step - loss: 35.1104 - mae: 2.8734 - val_loss: 27.7243 - val_mae: 2.5498\n",
      "Epoch 17/100\n",
      "129/129 [==============================] - 0s 3ms/step - loss: 34.6369 - mae: 2.8424 - val_loss: 28.3242 - val_mae: 2.5911\n",
      "Epoch 18/100\n",
      "129/129 [==============================] - 0s 3ms/step - loss: 34.0983 - mae: 2.8021 - val_loss: 28.0796 - val_mae: 2.5595\n",
      "Epoch 19/100\n",
      "129/129 [==============================] - 0s 3ms/step - loss: 33.8807 - mae: 2.7637 - val_loss: 28.8943 - val_mae: 2.6355\n",
      "Epoch 20/100\n",
      "129/129 [==============================] - 0s 3ms/step - loss: 33.7452 - mae: 2.7785 - val_loss: 40.3993 - val_mae: 4.1349\n",
      "Epoch 21/100\n",
      "129/129 [==============================] - 0s 3ms/step - loss: 34.2167 - mae: 2.8251 - val_loss: 53.2047 - val_mae: 4.5137\n",
      "Epoch 22/100\n",
      "129/129 [==============================] - 0s 3ms/step - loss: 38.3637 - mae: 3.1347 - val_loss: 29.8789 - val_mae: 2.8740\n",
      "Epoch 23/100\n",
      "129/129 [==============================] - 0s 3ms/step - loss: 34.4682 - mae: 2.8901 - val_loss: 28.9650 - val_mae: 2.6902\n",
      "Epoch 24/100\n",
      "129/129 [==============================] - 0s 3ms/step - loss: 33.4422 - mae: 2.8104 - val_loss: 28.3510 - val_mae: 2.6331\n",
      "Epoch 25/100\n",
      "129/129 [==============================] - 0s 3ms/step - loss: 32.9993 - mae: 2.7579 - val_loss: 50.7172 - val_mae: 4.5999\n",
      "Epoch 26/100\n",
      "129/129 [==============================] - 0s 3ms/step - loss: 45.4211 - mae: 3.5098 - val_loss: 28.3158 - val_mae: 2.6245\n",
      "Epoch 27/100\n",
      "129/129 [==============================] - 0s 3ms/step - loss: 33.2336 - mae: 2.7535 - val_loss: 26.9652 - val_mae: 2.5437\n",
      "Epoch 28/100\n",
      "129/129 [==============================] - 0s 3ms/step - loss: 32.9924 - mae: 2.7854 - val_loss: 27.0898 - val_mae: 2.5557\n",
      "Epoch 29/100\n",
      "129/129 [==============================] - 0s 3ms/step - loss: 32.6289 - mae: 2.7504 - val_loss: 28.1212 - val_mae: 2.6446\n",
      "Epoch 30/100\n",
      "129/129 [==============================] - 0s 3ms/step - loss: 32.2855 - mae: 2.7078 - val_loss: 29.1133 - val_mae: 2.7015\n",
      "Epoch 31/100\n",
      "129/129 [==============================] - 0s 3ms/step - loss: 32.8006 - mae: 2.7617 - val_loss: 28.2672 - val_mae: 2.6623\n",
      "Epoch 32/100\n",
      "129/129 [==============================] - 0s 3ms/step - loss: 32.2457 - mae: 2.7067 - val_loss: 27.5500 - val_mae: 2.6295\n",
      "Epoch 33/100\n",
      "129/129 [==============================] - 0s 3ms/step - loss: 32.6482 - mae: 2.7593 - val_loss: 28.9121 - val_mae: 2.7178\n",
      "Epoch 34/100\n",
      "129/129 [==============================] - 0s 3ms/step - loss: 32.6748 - mae: 2.7483 - val_loss: 26.5310 - val_mae: 2.5018\n",
      "Epoch 35/100\n",
      "129/129 [==============================] - 0s 3ms/step - loss: 32.2950 - mae: 2.7226 - val_loss: 26.5054 - val_mae: 2.4675\n",
      "Epoch 36/100\n",
      "129/129 [==============================] - 0s 3ms/step - loss: 33.6552 - mae: 2.7988 - val_loss: 29.7733 - val_mae: 2.7603\n",
      "Epoch 37/100\n",
      "129/129 [==============================] - 0s 3ms/step - loss: 32.0950 - mae: 2.6838 - val_loss: 27.7687 - val_mae: 2.6271\n",
      "Epoch 38/100\n",
      "129/129 [==============================] - 0s 3ms/step - loss: 32.2499 - mae: 2.7641 - val_loss: 26.7964 - val_mae: 2.5478\n",
      "Epoch 39/100\n",
      "129/129 [==============================] - 0s 3ms/step - loss: 33.1447 - mae: 2.8602 - val_loss: 27.1126 - val_mae: 2.5158\n",
      "Epoch 40/100\n",
      "129/129 [==============================] - 0s 3ms/step - loss: 31.4185 - mae: 2.6559 - val_loss: 28.6787 - val_mae: 2.7841\n",
      "Epoch 41/100\n",
      "129/129 [==============================] - 0s 3ms/step - loss: 32.1527 - mae: 2.7446 - val_loss: 29.3646 - val_mae: 2.8325\n",
      "Epoch 42/100\n",
      "129/129 [==============================] - 0s 3ms/step - loss: 31.7797 - mae: 2.7272 - val_loss: 28.5150 - val_mae: 2.8968\n",
      "Epoch 43/100\n",
      "129/129 [==============================] - 0s 3ms/step - loss: 31.1234 - mae: 2.6639 - val_loss: 25.8165 - val_mae: 2.5175\n",
      "Epoch 44/100\n",
      "129/129 [==============================] - 0s 3ms/step - loss: 31.1784 - mae: 2.6666 - val_loss: 29.4562 - val_mae: 2.7710\n",
      "Epoch 45/100\n",
      "129/129 [==============================] - 0s 3ms/step - loss: 31.2206 - mae: 2.7042 - val_loss: 27.7365 - val_mae: 2.5970\n",
      "Epoch 46/100\n",
      "129/129 [==============================] - 0s 3ms/step - loss: 31.2642 - mae: 2.6850 - val_loss: 26.9903 - val_mae: 2.6437\n",
      "Epoch 47/100\n",
      "129/129 [==============================] - 0s 3ms/step - loss: 31.1518 - mae: 2.6770 - val_loss: 28.1472 - val_mae: 2.5968\n",
      "Epoch 48/100\n",
      "129/129 [==============================] - 0s 3ms/step - loss: 30.9292 - mae: 2.6470 - val_loss: 27.3510 - val_mae: 2.5257\n",
      "Epoch 49/100\n",
      "129/129 [==============================] - 0s 3ms/step - loss: 30.5870 - mae: 2.6366 - val_loss: 61.9375 - val_mae: 5.5123\n",
      "Epoch 50/100\n",
      "129/129 [==============================] - 0s 3ms/step - loss: 41.9273 - mae: 3.2999 - val_loss: 29.1391 - val_mae: 2.6716\n",
      "Epoch 51/100\n",
      "129/129 [==============================] - 0s 3ms/step - loss: 31.4450 - mae: 2.7021 - val_loss: 26.6010 - val_mae: 2.5020\n",
      "Epoch 52/100\n",
      "129/129 [==============================] - 0s 3ms/step - loss: 32.1137 - mae: 2.8262 - val_loss: 26.3514 - val_mae: 2.4901\n",
      "Epoch 53/100\n",
      "129/129 [==============================] - 0s 3ms/step - loss: 31.2690 - mae: 2.6981 - val_loss: 26.1348 - val_mae: 2.5229\n",
      "Epoch 54/100\n",
      "129/129 [==============================] - 0s 3ms/step - loss: 30.5589 - mae: 2.6555 - val_loss: 27.4197 - val_mae: 2.6205\n",
      "Epoch 55/100\n",
      "129/129 [==============================] - 0s 3ms/step - loss: 30.8783 - mae: 2.6690 - val_loss: 26.2850 - val_mae: 2.5085\n",
      "Epoch 56/100\n",
      "129/129 [==============================] - 0s 3ms/step - loss: 30.2053 - mae: 2.6160 - val_loss: 28.1410 - val_mae: 2.6260\n",
      "Epoch 57/100\n",
      "129/129 [==============================] - 0s 3ms/step - loss: 30.3561 - mae: 2.6414 - val_loss: 26.1418 - val_mae: 2.4938\n",
      "Epoch 58/100\n",
      "129/129 [==============================] - 0s 3ms/step - loss: 30.3556 - mae: 2.6192 - val_loss: 26.8238 - val_mae: 2.5732\n",
      "Epoch 59/100\n",
      "129/129 [==============================] - 0s 3ms/step - loss: 30.0957 - mae: 2.6097 - val_loss: 26.5961 - val_mae: 2.5431\n",
      "Epoch 60/100\n",
      "129/129 [==============================] - 0s 3ms/step - loss: 30.2807 - mae: 2.6492 - val_loss: 26.9520 - val_mae: 2.6115\n",
      "Epoch 61/100\n",
      "129/129 [==============================] - 0s 3ms/step - loss: 30.1746 - mae: 2.6223 - val_loss: 25.5837 - val_mae: 2.4505\n",
      "Epoch 62/100\n",
      "129/129 [==============================] - 0s 3ms/step - loss: 29.9496 - mae: 2.6322 - val_loss: 27.1432 - val_mae: 2.4696\n",
      "Epoch 63/100\n",
      "129/129 [==============================] - 0s 3ms/step - loss: 30.1117 - mae: 2.6490 - val_loss: 27.9967 - val_mae: 2.8084\n",
      "Epoch 64/100\n",
      "129/129 [==============================] - 0s 3ms/step - loss: 30.2205 - mae: 2.6697 - val_loss: 25.8965 - val_mae: 2.4567\n",
      "Epoch 65/100\n",
      "129/129 [==============================] - 0s 3ms/step - loss: 29.9714 - mae: 2.5955 - val_loss: 27.5317 - val_mae: 2.5051\n",
      "Epoch 66/100\n",
      "129/129 [==============================] - 0s 3ms/step - loss: 30.2079 - mae: 2.6742 - val_loss: 27.0159 - val_mae: 2.4682\n",
      "Epoch 67/100\n",
      "129/129 [==============================] - 0s 3ms/step - loss: 29.9823 - mae: 2.6072 - val_loss: 27.9794 - val_mae: 2.6707\n",
      "Epoch 68/100\n",
      "129/129 [==============================] - 0s 3ms/step - loss: 29.7658 - mae: 2.5823 - val_loss: 27.6722 - val_mae: 2.5510\n",
      "Epoch 69/100\n",
      "129/129 [==============================] - 0s 3ms/step - loss: 30.1077 - mae: 2.6357 - val_loss: 26.8304 - val_mae: 2.4399\n",
      "Epoch 70/100\n",
      "129/129 [==============================] - 0s 2ms/step - loss: 29.5140 - mae: 2.5829 - val_loss: 26.3587 - val_mae: 2.5900\n",
      "Epoch 71/100\n",
      "129/129 [==============================] - 0s 2ms/step - loss: 29.6565 - mae: 2.5891 - val_loss: 32.0537 - val_mae: 2.8830\n",
      "Epoch 72/100\n",
      "129/129 [==============================] - 0s 3ms/step - loss: 30.1312 - mae: 2.6209 - val_loss: 29.4448 - val_mae: 2.8770\n",
      "Epoch 73/100\n",
      "129/129 [==============================] - 0s 3ms/step - loss: 30.4804 - mae: 2.6628 - val_loss: 29.1354 - val_mae: 2.6066\n",
      "Epoch 74/100\n",
      "129/129 [==============================] - 0s 3ms/step - loss: 29.4749 - mae: 2.5863 - val_loss: 36.6413 - val_mae: 3.5153\n",
      "Epoch 75/100\n",
      "129/129 [==============================] - 0s 3ms/step - loss: 29.5131 - mae: 2.6260 - val_loss: 27.0972 - val_mae: 2.4624\n",
      "Epoch 76/100\n",
      "129/129 [==============================] - 0s 3ms/step - loss: 29.6471 - mae: 2.5695 - val_loss: 27.6541 - val_mae: 2.5630\n",
      "Epoch 77/100\n",
      "129/129 [==============================] - 0s 3ms/step - loss: 29.5474 - mae: 2.6001 - val_loss: 27.5223 - val_mae: 2.6233\n",
      "Epoch 78/100\n",
      "129/129 [==============================] - 0s 3ms/step - loss: 29.4329 - mae: 2.5800 - val_loss: 27.4081 - val_mae: 2.6043\n",
      "Epoch 79/100\n",
      "129/129 [==============================] - 0s 3ms/step - loss: 29.9298 - mae: 2.6414 - val_loss: 27.2162 - val_mae: 2.5021\n",
      "Epoch 80/100\n",
      "129/129 [==============================] - 0s 3ms/step - loss: 29.4100 - mae: 2.5536 - val_loss: 30.1981 - val_mae: 2.9285\n",
      "Epoch 81/100\n",
      "129/129 [==============================] - 0s 3ms/step - loss: 30.0622 - mae: 2.6320 - val_loss: 26.3714 - val_mae: 2.4160\n",
      "Epoch 82/100\n",
      "129/129 [==============================] - 0s 3ms/step - loss: 30.2847 - mae: 2.6770 - val_loss: 41.0877 - val_mae: 3.9727\n",
      "Epoch 83/100\n",
      "129/129 [==============================] - 0s 3ms/step - loss: 32.9032 - mae: 2.8622 - val_loss: 26.5358 - val_mae: 2.5221\n",
      "Epoch 84/100\n",
      "129/129 [==============================] - 0s 3ms/step - loss: 29.9878 - mae: 2.6687 - val_loss: 29.2804 - val_mae: 2.9295\n",
      "Epoch 85/100\n",
      "129/129 [==============================] - 0s 3ms/step - loss: 29.6055 - mae: 2.6280 - val_loss: 27.0610 - val_mae: 2.5577\n",
      "Epoch 86/100\n",
      "129/129 [==============================] - 0s 3ms/step - loss: 28.9822 - mae: 2.5708 - val_loss: 36.0730 - val_mae: 3.3154\n",
      "Epoch 87/100\n",
      "129/129 [==============================] - 0s 3ms/step - loss: 29.9779 - mae: 2.6774 - val_loss: 26.7538 - val_mae: 2.4329\n",
      "Epoch 88/100\n",
      "129/129 [==============================] - 0s 3ms/step - loss: 29.5349 - mae: 2.5852 - val_loss: 26.3916 - val_mae: 2.4597\n",
      "Epoch 89/100\n",
      "129/129 [==============================] - 0s 3ms/step - loss: 28.7294 - mae: 2.5394 - val_loss: 26.3460 - val_mae: 2.4508\n",
      "Epoch 90/100\n",
      "129/129 [==============================] - 0s 3ms/step - loss: 28.8072 - mae: 2.5614 - val_loss: 26.2440 - val_mae: 2.4107\n",
      "Epoch 91/100\n",
      "129/129 [==============================] - 0s 3ms/step - loss: 28.8782 - mae: 2.5641 - val_loss: 26.7296 - val_mae: 2.4776\n",
      "Epoch 92/100\n",
      "129/129 [==============================] - 0s 3ms/step - loss: 29.1772 - mae: 2.5927 - val_loss: 29.3014 - val_mae: 2.8596\n",
      "Epoch 93/100\n",
      "129/129 [==============================] - 0s 3ms/step - loss: 29.1440 - mae: 2.5868 - val_loss: 26.0393 - val_mae: 2.4069\n",
      "Epoch 94/100\n",
      "129/129 [==============================] - 0s 3ms/step - loss: 28.9724 - mae: 2.5329 - val_loss: 30.3809 - val_mae: 2.8285\n",
      "Epoch 95/100\n",
      "129/129 [==============================] - 0s 3ms/step - loss: 29.3552 - mae: 2.5865 - val_loss: 27.3270 - val_mae: 2.5391\n",
      "Epoch 96/100\n",
      "129/129 [==============================] - 0s 3ms/step - loss: 28.5835 - mae: 2.5236 - val_loss: 28.1696 - val_mae: 2.4863\n",
      "Epoch 97/100\n",
      "129/129 [==============================] - 0s 3ms/step - loss: 28.9223 - mae: 2.5626 - val_loss: 26.9514 - val_mae: 2.5391\n",
      "Epoch 98/100\n",
      "129/129 [==============================] - 0s 3ms/step - loss: 28.8851 - mae: 2.5613 - val_loss: 27.7382 - val_mae: 2.5577\n",
      "Epoch 99/100\n",
      "129/129 [==============================] - 0s 3ms/step - loss: 29.2229 - mae: 2.5839 - val_loss: 26.2117 - val_mae: 2.4444\n",
      "Epoch 100/100\n",
      "129/129 [==============================] - 0s 3ms/step - loss: 29.0589 - mae: 2.5561 - val_loss: 26.7865 - val_mae: 2.5320\n"
     ]
    }
   ],
   "source": [
    "l1_regularization_strength = 0.01\n",
    "\n",
    "def build_reg_model():\n",
    "    reg_model = tf.keras.models.Sequential()\n",
    "    reg_model.add(layers.Dense(512, activation='relu', \n",
    "                               input_shape=(X_train.shape[1],),\n",
    "                               kernel_regularizer=regularizers.l1(l1_regularization_strength)))\n",
    "    reg_model.add(layers.Dense(256, activation='relu'))\n",
    "    reg_model.add(layers.Dense(256, activation='relu'))\n",
    "    #reg_model.add(layers.Dropout(0.05))\n",
    "    reg_model.add(layers.Dense(1))\n",
    "    reg_model.compile(\n",
    "        optimizer='adam',\n",
    "        loss='mean_squared_error',\n",
    "        metrics=['mae'])\n",
    "    return reg_model\n",
    "\n",
    "def train_model(reg_model):\n",
    "    history = reg_model.fit(X_train, y_train, epochs=100, batch_size=128, validation_split=0.2)\n",
    "    return history\n",
    "\n",
    "reg_model = build_reg_model()\n",
    "history = train_model(reg_model)"
   ]
  },
  {
   "cell_type": "code",
   "execution_count": 330,
   "id": "be44fd62-8a61-4ff9-ab68-2e2df6e2d94f",
   "metadata": {},
   "outputs": [],
   "source": [
    "def plot_loss(history):\n",
    "    loss = history.history['loss']\n",
    "    val_loss = history.history['val_loss']\n",
    "\n",
    "    epochs = range(1, len(loss) + 1)\n",
    "\n",
    "    blue_dots = 'bo'\n",
    "    solid_blue_line = 'b'\n",
    "\n",
    "    plt.plot(epochs, loss, blue_dots, label = 'Training loss')\n",
    "    plt.plot(epochs, val_loss, solid_blue_line, label = 'Validation loss')\n",
    "    plt.title('Training and validation loss')\n",
    "    plt.xlabel('Epochs')\n",
    "    plt.ylabel('Loss')\n",
    "    plt.legend()\n",
    "    plt.show()\n",
    "\n",
    "def plot_mae(history):\n",
    "    mae = history.history['mae']\n",
    "    val_mae = history.history['val_mae']\n",
    "\n",
    "    epochs = range(1, len(mae) + 1)\n",
    "\n",
    "    blue_dots = 'bo'\n",
    "    solid_blue_line = 'b'\n",
    "\n",
    "    plt.plot(epochs, mae, blue_dots, label = 'Training mae')\n",
    "    plt.plot(epochs, val_mae, solid_blue_line, label = 'Validation mae')\n",
    "    plt.title('Training and validation Mae')\n",
    "    plt.xlabel('Epochs')\n",
    "    plt.ylabel('Mae')\n",
    "    plt.legend()\n",
    "    plt.show()"
   ]
  },
  {
   "cell_type": "code",
   "execution_count": 331,
   "id": "e7c8a537-7ce5-4123-a912-930a23844502",
   "metadata": {},
   "outputs": [
    {
     "data": {
      "image/png": "[encoded data removed]",
      "text/plain": [
       "<Figure size 640x480 with 1 Axes>"
      ]
     },
     "metadata": {},
     "output_type": "display_data"
    },
    {
     "data": {
      "image/png": "[encoded data removed]",
      "text/plain": [
       "<Figure size 640x480 with 1 Axes>"
      ]
     },
     "metadata": {},
     "output_type": "display_data"
    }
   ],
   "source": [
    "plot_loss(history)\n",
    "plot_mae(history)"
   ]
  },
  {
   "cell_type": "markdown",
   "id": "4dde285c-43ce-47f4-a1f7-4ae46c96c110",
   "metadata": {},
   "source": [
    "## Model 8: Automatic Tuner on Neural Network"
   ]
  },
  {
   "cell_type": "code",
   "execution_count": 333,
   "id": "a5f5265c-a736-49fd-af54-2b7b6d261559",
   "metadata": {},
   "outputs": [
    {
     "name": "stdout",
     "output_type": "stream",
     "text": [
      "Trial 30 Complete [00h 00m 09s]\n",
      "val_loss: 31.484180450439453\n",
      "\n",
      "Best val_loss So Far: 27.658138275146484\n",
      "Total elapsed time: 00h 03m 05s\n",
      "Best Hyperparamters: {'num_layers': 2, 'units_0': 448, 'units_1': 416, 'dropout': 0.2, 'learning_rate': 0.0021861497732584595, 'units_2': 320, 'tuner/epochs': 10, 'tuner/initial_epoch': 4, 'tuner/bracket': 2, 'tuner/round': 2, 'tuner/trial_id': '0015', 'units_3': 96, 'units_4': 480}\n"
     ]
    }
   ],
   "source": [
    "import kerastuner as kt\n",
    "from tensorflow import keras\n",
    "\n",
    "# Use neural network\n",
    "def build_model(hp):\n",
    "    model = keras.Sequential()\n",
    "    for i in range(hp.Int('num_layers', 2, 5)):  \n",
    "        model.add(keras.layers.Dense(\n",
    "            units=hp.Int('units_' + str(i), min_value=32, max_value=512, step=32),\n",
    "            activation='relu'\n",
    "        ))\n",
    "    model.add(keras.layers.Dropout(rate=hp.Float('dropout', 0.2, 0.5, step=0.1)))   \n",
    "    model.add(keras.layers.Dense(1))      \n",
    "    hp_learning_rate = hp.Float('learning_rate', min_value=1e-4, max_value=1e-2, sampling='log')\n",
    "\n",
    "    model.compile(\n",
    "        optimizer=keras.optimizers.Adam(learning_rate=hp_learning_rate),\n",
    "        loss='mean_squared_error',  \n",
    "        metrics=['mae']  \n",
    "    )\n",
    "\n",
    "    return model\n",
    "    \n",
    "tuner = kt.Hyperband(\n",
    "    build_model,\n",
    "    objective='val_loss',  \n",
    "    max_epochs=10,  \n",
    "    factor=3,  \n",
    "    directory='kt_tuning',  \n",
    "    project_name='regression_tuning'  \n",
    ")\n",
    "\n",
    "\n",
    "tuner.search_space_summary()\n",
    "tuner.search(X_train, y_train, validation_split=0.2, epochs=10)\n",
    "best_model = tuner.get_best_models(num_models=1)[0]\n",
    "best_hyperparameters = tuner.get_best_hyperparameters(1)[0]\n",
    "print(\"Best Hyperparamters:\", best_hyperparameters.values)\n"
   ]
  },
  {
   "cell_type": "code",
   "execution_count": 1,
   "id": "029140d8-bb2f-45b1-8d23-e539f5fa0495",
   "metadata": {},
   "outputs": [],
   "source": [
    "# I tried Keras Tuner on the neural network, but the performance is not the best."
   ]
  },
  {
   "cell_type": "markdown",
   "id": "bcdebd93-995b-401c-9767-ce5eb8f81af3",
   "metadata": {},
   "source": [
    "# Finalize the model"
   ]
  },
  {
   "cell_type": "code",
   "execution_count": 363,
   "id": "77c65409-5d47-45ca-8f65-bc63e006c142",
   "metadata": {},
   "outputs": [
    {
     "name": "stdout",
     "output_type": "stream",
     "text": [
      "Mean Absolute Error (MAE): 2.187749417541635\n",
      "Mean Squared Error (MSE): 28.070417836604538\n",
      "Root Mean Squared Error (RMSE): 5.2981523040211425\n",
      "R-squared: 0.9345180567842989\n"
     ]
    }
   ],
   "source": [
    "predictions = grid_search.predict(X_test)\n",
    "display_scores(y_test, predictions)"
   ]
  },
  {
   "cell_type": "code",
   "execution_count": 384,
   "id": "1d728be3-109f-4346-be23-3277cab57d3f",
   "metadata": {},
   "outputs": [
    {
     "name": "stdout",
     "output_type": "stream",
     "text": [
      "Best zone to go to: Newark Airport\n",
      "Estimated income (fare): 18.403046228350057\n"
     ]
    }
   ],
   "source": [
    "# Assume these are the features used during model training\n",
    "training_features = ['pickup_hour', 'pickup_weekday', 'trip_distance', 'tip_amount', 'extra']\n",
    "\n",
    "# Function to suggest the best zone\n",
    "def suggest_best_zone_and_income(grid_search, pickup_hour, pickup_weekday, zone_mapping):\n",
    "    # Create sample data with default values for all required features\n",
    "    default_trip_distance = 2.0  # Default value, adjust as needed\n",
    "    default_tip_amount = 1.0  # Default value, adjust as needed\n",
    "    default_extra = 0.5  # Default value, adjust as needed\n",
    "    \n",
    "    # Create sample data with required features\n",
    "    sample_data = pd.DataFrame({\n",
    "        'pickup_hour': [pickup_hour] * len(zone_mapping),\n",
    "        'pickup_weekday': [pickup_weekday] * len(zone_mapping),\n",
    "        'trip_distance': [default_trip_distance] * len(zone_mapping),\n",
    "        'tip_amount': [default_tip_amount] * len(zone_mapping),\n",
    "        'extra': [default_extra] * len(zone_mapping),\n",
    "    })\n",
    "\n",
    "    # Predict expected fare for each zone\n",
    "    predicted_fares = grid_search.predict(sample_data)\n",
    "\n",
    "    # Get the best zone with the highest expected fare\n",
    "    best_zone_index = predicted_fares.argmax()  # Index of the highest fare\n",
    "    best_zone = zone_mapping.loc[best_zone_index, 'Zone']\n",
    "    estimated_income = predicted_fares[best_zone_index]  # Expected income\n",
    "\n",
    "    return best_zone, estimated_income\n",
    "\n",
    "# Example usage\n",
    "pickup_hour = 9 # Example hour\n",
    "pickup_weekday = 4  # Example weekday (4 for Tuesday)\n",
    "\n",
    "best_zone, estimated_income = suggest_best_zone_and_income(grid_search, pickup_hour, pickup_weekday, zone_mapping)\n",
    "\n",
    "\n",
    "print(\"Best zone to go to:\", best_zone)\n",
    "print(\"Estimated income (fare):\", estimated_income)\n"
   ]
  }
 ],
 "metadata": {
  "kernelspec": {
   "display_name": "Python (AI2023)",
   "language": "python",
   "name": "ai2023"
  },
  "language_info": {
   "codemirror_mode": {
    "name": "ipython",
    "version": 3
   },
   "file_extension": ".py",
   "mimetype": "text/x-python",
   "name": "python",
   "nbconvert_exporter": "python",
   "pygments_lexer": "ipython3",
   "version": "3.8.18"
  }
 },
 "nbformat": 4,
 "nbformat_minor": 5
}
